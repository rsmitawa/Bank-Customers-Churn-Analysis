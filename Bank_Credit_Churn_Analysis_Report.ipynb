{
 "cells": [
  {
   "cell_type": "code",
   "execution_count": 1,
   "id": "8a1bcacb",
   "metadata": {},
   "outputs": [],
   "source": [
    "# Loading all the required libraries\n",
    "import pandas as pd\n",
    "import numpy as np\n",
    "import matplotlib.pyplot as plt\n",
    "%matplotlib inline\n",
    "import seaborn as sns\n",
    "\n",
    "from sklearn.model_selection import GridSearchCV\n",
    "from sklearn.linear_model import LogisticRegression\n",
    "from sklearn.ensemble import RandomForestClassifier\n",
    "from sklearn.tree import DecisionTreeClassifier\n",
    "from sklearn.ensemble import BaggingClassifier\n",
    "from sklearn.ensemble import AdaBoostClassifier\n",
    "from sklearn.ensemble import GradientBoostingClassifier\n",
    "from sklearn.ensemble import StackingClassifier\n",
    "from sklearn.pipeline import Pipeline\n",
    "from imblearn.pipeline import Pipeline as ImblearnPipeline\n",
    "from imblearn.over_sampling import SMOTE \n",
    "from sklearn.ensemble import BaggingClassifier\n",
    "from sklearn.model_selection import cross_val_score\n",
    "from imblearn.under_sampling import RandomUnderSampler\n",
    "from sklearn.model_selection import RepeatedStratifiedKFold\n",
    "from sklearn.model_selection import RandomizedSearchCV\n",
    "from numpy import mean\n",
    "#import xgboost as xgb\n",
    "\n",
    "from sklearn.metrics import recall_score\n",
    "from sklearn.metrics import f1_score\n",
    "from sklearn.metrics import roc_auc_score\n",
    "from sklearn.metrics import accuracy_score\n",
    "from sklearn.metrics import make_scorer\n",
    "\n",
    "from sklearn.model_selection import cross_val_score\n",
    "\n",
    "from sklearn.model_selection import train_test_split\n",
    "\n",
    "from sklearn.impute import SimpleImputer\n",
    "#import missingno as msno\n",
    "\n",
    "\n",
    "import gc\n",
    "# enable garbage collector to aid in memory \n",
    "gc.enable()\n",
    "\n",
    "import warnings\n",
    "warnings.filterwarnings(\"ignore\")"
   ]
  },
  {
   "cell_type": "code",
   "execution_count": 2,
   "id": "5bbbec61",
   "metadata": {},
   "outputs": [
    {
     "data": {
      "text/html": [
       "<div>\n",
       "<style scoped>\n",
       "    .dataframe tbody tr th:only-of-type {\n",
       "        vertical-align: middle;\n",
       "    }\n",
       "\n",
       "    .dataframe tbody tr th {\n",
       "        vertical-align: top;\n",
       "    }\n",
       "\n",
       "    .dataframe thead th {\n",
       "        text-align: right;\n",
       "    }\n",
       "</style>\n",
       "<table border=\"1\" class=\"dataframe\">\n",
       "  <thead>\n",
       "    <tr style=\"text-align: right;\">\n",
       "      <th></th>\n",
       "      <th>CLIENTNUM</th>\n",
       "      <th>Attrition_Flag</th>\n",
       "      <th>Customer_Age</th>\n",
       "      <th>Gender</th>\n",
       "      <th>Dependent_count</th>\n",
       "      <th>Education_Level</th>\n",
       "      <th>Marital_Status</th>\n",
       "      <th>Income_Category</th>\n",
       "      <th>Card_Category</th>\n",
       "      <th>Months_on_book</th>\n",
       "      <th>...</th>\n",
       "      <th>Months_Inactive_12_mon</th>\n",
       "      <th>Contacts_Count_12_mon</th>\n",
       "      <th>Credit_Limit</th>\n",
       "      <th>Total_Revolving_Bal</th>\n",
       "      <th>Avg_Open_To_Buy</th>\n",
       "      <th>Total_Amt_Chng_Q4_Q1</th>\n",
       "      <th>Total_Trans_Amt</th>\n",
       "      <th>Total_Trans_Ct</th>\n",
       "      <th>Total_Ct_Chng_Q4_Q1</th>\n",
       "      <th>Avg_Utilization_Ratio</th>\n",
       "    </tr>\n",
       "  </thead>\n",
       "  <tbody>\n",
       "    <tr>\n",
       "      <th>0</th>\n",
       "      <td>768805383</td>\n",
       "      <td>Existing Customer</td>\n",
       "      <td>45</td>\n",
       "      <td>M</td>\n",
       "      <td>3</td>\n",
       "      <td>High School</td>\n",
       "      <td>Married</td>\n",
       "      <td>$60K - $80K</td>\n",
       "      <td>Blue</td>\n",
       "      <td>39</td>\n",
       "      <td>...</td>\n",
       "      <td>1</td>\n",
       "      <td>3</td>\n",
       "      <td>12691.0</td>\n",
       "      <td>777</td>\n",
       "      <td>11914.0</td>\n",
       "      <td>1.335</td>\n",
       "      <td>1144</td>\n",
       "      <td>42</td>\n",
       "      <td>1.625</td>\n",
       "      <td>0.061</td>\n",
       "    </tr>\n",
       "    <tr>\n",
       "      <th>1</th>\n",
       "      <td>818770008</td>\n",
       "      <td>Existing Customer</td>\n",
       "      <td>49</td>\n",
       "      <td>F</td>\n",
       "      <td>5</td>\n",
       "      <td>Graduate</td>\n",
       "      <td>Single</td>\n",
       "      <td>Less than $40K</td>\n",
       "      <td>Blue</td>\n",
       "      <td>44</td>\n",
       "      <td>...</td>\n",
       "      <td>1</td>\n",
       "      <td>2</td>\n",
       "      <td>8256.0</td>\n",
       "      <td>864</td>\n",
       "      <td>7392.0</td>\n",
       "      <td>1.541</td>\n",
       "      <td>1291</td>\n",
       "      <td>33</td>\n",
       "      <td>3.714</td>\n",
       "      <td>0.105</td>\n",
       "    </tr>\n",
       "    <tr>\n",
       "      <th>2</th>\n",
       "      <td>713982108</td>\n",
       "      <td>Existing Customer</td>\n",
       "      <td>51</td>\n",
       "      <td>M</td>\n",
       "      <td>3</td>\n",
       "      <td>Graduate</td>\n",
       "      <td>Married</td>\n",
       "      <td>$80K - $120K</td>\n",
       "      <td>Blue</td>\n",
       "      <td>36</td>\n",
       "      <td>...</td>\n",
       "      <td>1</td>\n",
       "      <td>0</td>\n",
       "      <td>3418.0</td>\n",
       "      <td>0</td>\n",
       "      <td>3418.0</td>\n",
       "      <td>2.594</td>\n",
       "      <td>1887</td>\n",
       "      <td>20</td>\n",
       "      <td>2.333</td>\n",
       "      <td>0.000</td>\n",
       "    </tr>\n",
       "    <tr>\n",
       "      <th>3</th>\n",
       "      <td>769911858</td>\n",
       "      <td>Existing Customer</td>\n",
       "      <td>40</td>\n",
       "      <td>F</td>\n",
       "      <td>4</td>\n",
       "      <td>High School</td>\n",
       "      <td>NaN</td>\n",
       "      <td>Less than $40K</td>\n",
       "      <td>Blue</td>\n",
       "      <td>34</td>\n",
       "      <td>...</td>\n",
       "      <td>4</td>\n",
       "      <td>1</td>\n",
       "      <td>3313.0</td>\n",
       "      <td>2517</td>\n",
       "      <td>796.0</td>\n",
       "      <td>1.405</td>\n",
       "      <td>1171</td>\n",
       "      <td>20</td>\n",
       "      <td>2.333</td>\n",
       "      <td>0.760</td>\n",
       "    </tr>\n",
       "    <tr>\n",
       "      <th>4</th>\n",
       "      <td>709106358</td>\n",
       "      <td>Existing Customer</td>\n",
       "      <td>40</td>\n",
       "      <td>M</td>\n",
       "      <td>3</td>\n",
       "      <td>Uneducated</td>\n",
       "      <td>Married</td>\n",
       "      <td>$60K - $80K</td>\n",
       "      <td>Blue</td>\n",
       "      <td>21</td>\n",
       "      <td>...</td>\n",
       "      <td>1</td>\n",
       "      <td>0</td>\n",
       "      <td>4716.0</td>\n",
       "      <td>0</td>\n",
       "      <td>4716.0</td>\n",
       "      <td>2.175</td>\n",
       "      <td>816</td>\n",
       "      <td>28</td>\n",
       "      <td>2.500</td>\n",
       "      <td>0.000</td>\n",
       "    </tr>\n",
       "  </tbody>\n",
       "</table>\n",
       "<p>5 rows × 21 columns</p>\n",
       "</div>"
      ],
      "text/plain": [
       "   CLIENTNUM     Attrition_Flag  Customer_Age Gender  Dependent_count  \\\n",
       "0  768805383  Existing Customer            45      M                3   \n",
       "1  818770008  Existing Customer            49      F                5   \n",
       "2  713982108  Existing Customer            51      M                3   \n",
       "3  769911858  Existing Customer            40      F                4   \n",
       "4  709106358  Existing Customer            40      M                3   \n",
       "\n",
       "  Education_Level Marital_Status Income_Category Card_Category  \\\n",
       "0     High School        Married     $60K - $80K          Blue   \n",
       "1        Graduate         Single  Less than $40K          Blue   \n",
       "2        Graduate        Married    $80K - $120K          Blue   \n",
       "3     High School            NaN  Less than $40K          Blue   \n",
       "4      Uneducated        Married     $60K - $80K          Blue   \n",
       "\n",
       "   Months_on_book  ...  Months_Inactive_12_mon  Contacts_Count_12_mon  \\\n",
       "0              39  ...                       1                      3   \n",
       "1              44  ...                       1                      2   \n",
       "2              36  ...                       1                      0   \n",
       "3              34  ...                       4                      1   \n",
       "4              21  ...                       1                      0   \n",
       "\n",
       "   Credit_Limit  Total_Revolving_Bal  Avg_Open_To_Buy  Total_Amt_Chng_Q4_Q1  \\\n",
       "0       12691.0                  777          11914.0                 1.335   \n",
       "1        8256.0                  864           7392.0                 1.541   \n",
       "2        3418.0                    0           3418.0                 2.594   \n",
       "3        3313.0                 2517            796.0                 1.405   \n",
       "4        4716.0                    0           4716.0                 2.175   \n",
       "\n",
       "   Total_Trans_Amt  Total_Trans_Ct  Total_Ct_Chng_Q4_Q1  Avg_Utilization_Ratio  \n",
       "0             1144              42                1.625                  0.061  \n",
       "1             1291              33                3.714                  0.105  \n",
       "2             1887              20                2.333                  0.000  \n",
       "3             1171              20                2.333                  0.760  \n",
       "4              816              28                2.500                  0.000  \n",
       "\n",
       "[5 rows x 21 columns]"
      ]
     },
     "execution_count": 2,
     "metadata": {},
     "output_type": "execute_result"
    }
   ],
   "source": [
    "# Reading data file and printing the data\n",
    "bank_df = pd.read_csv(\"BankChurners.csv\")\n",
    "bank_df.head()"
   ]
  },
  {
   "cell_type": "code",
   "execution_count": 3,
   "id": "40df6280",
   "metadata": {},
   "outputs": [
    {
     "name": "stdout",
     "output_type": "stream",
     "text": [
      "<class 'pandas.core.frame.DataFrame'>\n",
      "RangeIndex: 10127 entries, 0 to 10126\n",
      "Data columns (total 21 columns):\n",
      " #   Column                    Non-Null Count  Dtype  \n",
      "---  ------                    --------------  -----  \n",
      " 0   CLIENTNUM                 10127 non-null  int64  \n",
      " 1   Attrition_Flag            10127 non-null  object \n",
      " 2   Customer_Age              10127 non-null  int64  \n",
      " 3   Gender                    10127 non-null  object \n",
      " 4   Dependent_count           10127 non-null  int64  \n",
      " 5   Education_Level           8608 non-null   object \n",
      " 6   Marital_Status            9378 non-null   object \n",
      " 7   Income_Category           10127 non-null  object \n",
      " 8   Card_Category             10127 non-null  object \n",
      " 9   Months_on_book            10127 non-null  int64  \n",
      " 10  Total_Relationship_Count  10127 non-null  int64  \n",
      " 11  Months_Inactive_12_mon    10127 non-null  int64  \n",
      " 12  Contacts_Count_12_mon     10127 non-null  int64  \n",
      " 13  Credit_Limit              10127 non-null  float64\n",
      " 14  Total_Revolving_Bal       10127 non-null  int64  \n",
      " 15  Avg_Open_To_Buy           10127 non-null  float64\n",
      " 16  Total_Amt_Chng_Q4_Q1      10127 non-null  float64\n",
      " 17  Total_Trans_Amt           10127 non-null  int64  \n",
      " 18  Total_Trans_Ct            10127 non-null  int64  \n",
      " 19  Total_Ct_Chng_Q4_Q1       10127 non-null  float64\n",
      " 20  Avg_Utilization_Ratio     10127 non-null  float64\n",
      "dtypes: float64(5), int64(10), object(6)\n",
      "memory usage: 1.6+ MB\n"
     ]
    }
   ],
   "source": [
    "# Printing information of dataset\n",
    "bank_df.info()"
   ]
  },
  {
   "cell_type": "markdown",
   "id": "a801331f",
   "metadata": {},
   "source": [
    "### EDA of dataset"
   ]
  },
  {
   "cell_type": "code",
   "execution_count": 4,
   "id": "1be86fcb",
   "metadata": {},
   "outputs": [],
   "source": [
    "#Removing Unique identifier \n",
    "bank_df.drop('CLIENTNUM',axis=1,inplace=True)"
   ]
  },
  {
   "cell_type": "code",
   "execution_count": 5,
   "id": "8b340c4e",
   "metadata": {},
   "outputs": [
    {
     "data": {
      "text/html": [
       "<div>\n",
       "<style scoped>\n",
       "    .dataframe tbody tr th:only-of-type {\n",
       "        vertical-align: middle;\n",
       "    }\n",
       "\n",
       "    .dataframe tbody tr th {\n",
       "        vertical-align: top;\n",
       "    }\n",
       "\n",
       "    .dataframe thead th {\n",
       "        text-align: right;\n",
       "    }\n",
       "</style>\n",
       "<table border=\"1\" class=\"dataframe\">\n",
       "  <thead>\n",
       "    <tr style=\"text-align: right;\">\n",
       "      <th></th>\n",
       "      <th>Customer_Age</th>\n",
       "      <th>Dependent_count</th>\n",
       "      <th>Months_on_book</th>\n",
       "      <th>Total_Relationship_Count</th>\n",
       "      <th>Months_Inactive_12_mon</th>\n",
       "      <th>Contacts_Count_12_mon</th>\n",
       "      <th>Credit_Limit</th>\n",
       "      <th>Total_Revolving_Bal</th>\n",
       "      <th>Avg_Open_To_Buy</th>\n",
       "      <th>Total_Amt_Chng_Q4_Q1</th>\n",
       "      <th>Total_Trans_Amt</th>\n",
       "      <th>Total_Trans_Ct</th>\n",
       "      <th>Total_Ct_Chng_Q4_Q1</th>\n",
       "      <th>Avg_Utilization_Ratio</th>\n",
       "    </tr>\n",
       "  </thead>\n",
       "  <tbody>\n",
       "    <tr>\n",
       "      <th>count</th>\n",
       "      <td>10127.000000</td>\n",
       "      <td>10127.000000</td>\n",
       "      <td>10127.000000</td>\n",
       "      <td>10127.000000</td>\n",
       "      <td>10127.000000</td>\n",
       "      <td>10127.000000</td>\n",
       "      <td>10127.000000</td>\n",
       "      <td>10127.000000</td>\n",
       "      <td>10127.000000</td>\n",
       "      <td>10127.000000</td>\n",
       "      <td>10127.000000</td>\n",
       "      <td>10127.000000</td>\n",
       "      <td>10127.000000</td>\n",
       "      <td>10127.000000</td>\n",
       "    </tr>\n",
       "    <tr>\n",
       "      <th>mean</th>\n",
       "      <td>46.325960</td>\n",
       "      <td>2.346203</td>\n",
       "      <td>35.928409</td>\n",
       "      <td>3.812580</td>\n",
       "      <td>2.341167</td>\n",
       "      <td>2.455317</td>\n",
       "      <td>8631.953698</td>\n",
       "      <td>1162.814061</td>\n",
       "      <td>7469.139637</td>\n",
       "      <td>0.759941</td>\n",
       "      <td>4404.086304</td>\n",
       "      <td>64.858695</td>\n",
       "      <td>0.712222</td>\n",
       "      <td>0.274894</td>\n",
       "    </tr>\n",
       "    <tr>\n",
       "      <th>std</th>\n",
       "      <td>8.016814</td>\n",
       "      <td>1.298908</td>\n",
       "      <td>7.986416</td>\n",
       "      <td>1.554408</td>\n",
       "      <td>1.010622</td>\n",
       "      <td>1.106225</td>\n",
       "      <td>9088.776650</td>\n",
       "      <td>814.987335</td>\n",
       "      <td>9090.685324</td>\n",
       "      <td>0.219207</td>\n",
       "      <td>3397.129254</td>\n",
       "      <td>23.472570</td>\n",
       "      <td>0.238086</td>\n",
       "      <td>0.275691</td>\n",
       "    </tr>\n",
       "    <tr>\n",
       "      <th>min</th>\n",
       "      <td>26.000000</td>\n",
       "      <td>0.000000</td>\n",
       "      <td>13.000000</td>\n",
       "      <td>1.000000</td>\n",
       "      <td>0.000000</td>\n",
       "      <td>0.000000</td>\n",
       "      <td>1438.300000</td>\n",
       "      <td>0.000000</td>\n",
       "      <td>3.000000</td>\n",
       "      <td>0.000000</td>\n",
       "      <td>510.000000</td>\n",
       "      <td>10.000000</td>\n",
       "      <td>0.000000</td>\n",
       "      <td>0.000000</td>\n",
       "    </tr>\n",
       "    <tr>\n",
       "      <th>25%</th>\n",
       "      <td>41.000000</td>\n",
       "      <td>1.000000</td>\n",
       "      <td>31.000000</td>\n",
       "      <td>3.000000</td>\n",
       "      <td>2.000000</td>\n",
       "      <td>2.000000</td>\n",
       "      <td>2555.000000</td>\n",
       "      <td>359.000000</td>\n",
       "      <td>1324.500000</td>\n",
       "      <td>0.631000</td>\n",
       "      <td>2155.500000</td>\n",
       "      <td>45.000000</td>\n",
       "      <td>0.582000</td>\n",
       "      <td>0.023000</td>\n",
       "    </tr>\n",
       "    <tr>\n",
       "      <th>50%</th>\n",
       "      <td>46.000000</td>\n",
       "      <td>2.000000</td>\n",
       "      <td>36.000000</td>\n",
       "      <td>4.000000</td>\n",
       "      <td>2.000000</td>\n",
       "      <td>2.000000</td>\n",
       "      <td>4549.000000</td>\n",
       "      <td>1276.000000</td>\n",
       "      <td>3474.000000</td>\n",
       "      <td>0.736000</td>\n",
       "      <td>3899.000000</td>\n",
       "      <td>67.000000</td>\n",
       "      <td>0.702000</td>\n",
       "      <td>0.176000</td>\n",
       "    </tr>\n",
       "    <tr>\n",
       "      <th>75%</th>\n",
       "      <td>52.000000</td>\n",
       "      <td>3.000000</td>\n",
       "      <td>40.000000</td>\n",
       "      <td>5.000000</td>\n",
       "      <td>3.000000</td>\n",
       "      <td>3.000000</td>\n",
       "      <td>11067.500000</td>\n",
       "      <td>1784.000000</td>\n",
       "      <td>9859.000000</td>\n",
       "      <td>0.859000</td>\n",
       "      <td>4741.000000</td>\n",
       "      <td>81.000000</td>\n",
       "      <td>0.818000</td>\n",
       "      <td>0.503000</td>\n",
       "    </tr>\n",
       "    <tr>\n",
       "      <th>max</th>\n",
       "      <td>73.000000</td>\n",
       "      <td>5.000000</td>\n",
       "      <td>56.000000</td>\n",
       "      <td>6.000000</td>\n",
       "      <td>6.000000</td>\n",
       "      <td>6.000000</td>\n",
       "      <td>34516.000000</td>\n",
       "      <td>2517.000000</td>\n",
       "      <td>34516.000000</td>\n",
       "      <td>3.397000</td>\n",
       "      <td>18484.000000</td>\n",
       "      <td>139.000000</td>\n",
       "      <td>3.714000</td>\n",
       "      <td>0.999000</td>\n",
       "    </tr>\n",
       "  </tbody>\n",
       "</table>\n",
       "</div>"
      ],
      "text/plain": [
       "       Customer_Age  Dependent_count  Months_on_book  \\\n",
       "count  10127.000000     10127.000000    10127.000000   \n",
       "mean      46.325960         2.346203       35.928409   \n",
       "std        8.016814         1.298908        7.986416   \n",
       "min       26.000000         0.000000       13.000000   \n",
       "25%       41.000000         1.000000       31.000000   \n",
       "50%       46.000000         2.000000       36.000000   \n",
       "75%       52.000000         3.000000       40.000000   \n",
       "max       73.000000         5.000000       56.000000   \n",
       "\n",
       "       Total_Relationship_Count  Months_Inactive_12_mon  \\\n",
       "count              10127.000000            10127.000000   \n",
       "mean                   3.812580                2.341167   \n",
       "std                    1.554408                1.010622   \n",
       "min                    1.000000                0.000000   \n",
       "25%                    3.000000                2.000000   \n",
       "50%                    4.000000                2.000000   \n",
       "75%                    5.000000                3.000000   \n",
       "max                    6.000000                6.000000   \n",
       "\n",
       "       Contacts_Count_12_mon  Credit_Limit  Total_Revolving_Bal  \\\n",
       "count           10127.000000  10127.000000         10127.000000   \n",
       "mean                2.455317   8631.953698          1162.814061   \n",
       "std                 1.106225   9088.776650           814.987335   \n",
       "min                 0.000000   1438.300000             0.000000   \n",
       "25%                 2.000000   2555.000000           359.000000   \n",
       "50%                 2.000000   4549.000000          1276.000000   \n",
       "75%                 3.000000  11067.500000          1784.000000   \n",
       "max                 6.000000  34516.000000          2517.000000   \n",
       "\n",
       "       Avg_Open_To_Buy  Total_Amt_Chng_Q4_Q1  Total_Trans_Amt  Total_Trans_Ct  \\\n",
       "count     10127.000000          10127.000000     10127.000000    10127.000000   \n",
       "mean       7469.139637              0.759941      4404.086304       64.858695   \n",
       "std        9090.685324              0.219207      3397.129254       23.472570   \n",
       "min           3.000000              0.000000       510.000000       10.000000   \n",
       "25%        1324.500000              0.631000      2155.500000       45.000000   \n",
       "50%        3474.000000              0.736000      3899.000000       67.000000   \n",
       "75%        9859.000000              0.859000      4741.000000       81.000000   \n",
       "max       34516.000000              3.397000     18484.000000      139.000000   \n",
       "\n",
       "       Total_Ct_Chng_Q4_Q1  Avg_Utilization_Ratio  \n",
       "count         10127.000000           10127.000000  \n",
       "mean              0.712222               0.274894  \n",
       "std               0.238086               0.275691  \n",
       "min               0.000000               0.000000  \n",
       "25%               0.582000               0.023000  \n",
       "50%               0.702000               0.176000  \n",
       "75%               0.818000               0.503000  \n",
       "max               3.714000               0.999000  "
      ]
     },
     "execution_count": 5,
     "metadata": {},
     "output_type": "execute_result"
    }
   ],
   "source": [
    "# Getting the summary of bank dataframe\n",
    "bank_df.describe()"
   ]
  },
  {
   "cell_type": "code",
   "execution_count": 6,
   "id": "234dd52a",
   "metadata": {},
   "outputs": [
    {
     "name": "stdout",
     "output_type": "stream",
     "text": [
      "F    5358\n",
      "M    4769\n",
      "Name: Gender, dtype: int64\n"
     ]
    },
    {
     "data": {
      "image/png": "[encoded data removed]",
      "text/plain": [
       "<Figure size 432x288 with 1 Axes>"
      ]
     },
     "metadata": {
      "needs_background": "light"
     },
     "output_type": "display_data"
    }
   ],
   "source": [
    "# Analysis and visualization of Gender\n",
    "tb = bank_df['Gender'].value_counts()\n",
    "print(tb)\n",
    "ax = sns.countplot(x = 'Gender',  data=bank_df)\n",
    "ax.set_title('Bar chart on customer Gender')\n",
    "plt.show()"
   ]
  },
  {
   "cell_type": "markdown",
   "id": "9992435d",
   "metadata": {},
   "source": [
    "Bank has more Female customers than Male."
   ]
  },
  {
   "cell_type": "code",
   "execution_count": 7,
   "id": "ac5becf8",
   "metadata": {},
   "outputs": [
    {
     "name": "stdout",
     "output_type": "stream",
     "text": [
      "Existing Customer    8500\n",
      "Attrited Customer    1627\n",
      "Name: Attrition_Flag, dtype: int64\n"
     ]
    },
    {
     "data": {
      "image/png": "[encoded data removed]",
      "text/plain": [
       "<Figure size 432x288 with 1 Axes>"
      ]
     },
     "metadata": {
      "needs_background": "light"
     },
     "output_type": "display_data"
    }
   ],
   "source": [
    "# Analysis and visualization of Customer still existing in bank\n",
    "tb = bank_df['Attrition_Flag'].value_counts()\n",
    "print(tb)\n",
    "ax = sns.countplot(x = 'Attrition_Flag',  data=bank_df)\n",
    "ax.set_title('Bar chart on existing customer of bank')\n",
    "plt.show()"
   ]
  },
  {
   "cell_type": "code",
   "execution_count": 8,
   "id": "18970f89",
   "metadata": {},
   "outputs": [
    {
     "data": {
      "image/png": "[encoded data removed]",
      "text/plain": [
       "<Figure size 432x288 with 1 Axes>"
      ]
     },
     "metadata": {
      "needs_background": "light"
     },
     "output_type": "display_data"
    }
   ],
   "source": [
    "# Analysis and visualization of Average age  of  customers of bank\n",
    "ax = sns.histplot(x = 'Customer_Age',  data=bank_df)\n",
    "ax.set_title('Distribution of age of customers of bank')\n",
    "plt.show()"
   ]
  },
  {
   "cell_type": "code",
   "execution_count": 9,
   "id": "83bd258d",
   "metadata": {},
   "outputs": [
    {
     "name": "stdout",
     "output_type": "stream",
     "text": [
      "Graduate         3128\n",
      "High School      2013\n",
      "Uneducated       1487\n",
      "College          1013\n",
      "Post-Graduate     516\n",
      "Doctorate         451\n",
      "Name: Education_Level, dtype: int64\n"
     ]
    },
    {
     "data": {
      "image/png": "[encoded data removed]",
      "text/plain": [
       "<Figure size 432x288 with 1 Axes>"
      ]
     },
     "metadata": {
      "needs_background": "light"
     },
     "output_type": "display_data"
    }
   ],
   "source": [
    "# Analysis and visualization of Customer education level\n",
    "tb = bank_df['Education_Level'].value_counts()\n",
    "print(tb)\n",
    "ax = sns.countplot(x = 'Education_Level',  data=bank_df)\n",
    "ax.set_title('Bar chart on education level customer of bank')\n",
    "plt.xticks(rotation=30)\n",
    "plt.show()"
   ]
  },
  {
   "cell_type": "code",
   "execution_count": 10,
   "id": "97b3746c",
   "metadata": {},
   "outputs": [
    {
     "name": "stdout",
     "output_type": "stream",
     "text": [
      "Married     4687\n",
      "Single      3943\n",
      "Divorced     748\n",
      "Name: Marital_Status, dtype: int64\n"
     ]
    },
    {
     "data": {
      "image/png": "[encoded data removed]",
      "text/plain": [
       "<Figure size 432x288 with 1 Axes>"
      ]
     },
     "metadata": {
      "needs_background": "light"
     },
     "output_type": "display_data"
    }
   ],
   "source": [
    "# Analysis and visualization of Marital_Status of Customer of bank\n",
    "tb = bank_df['Marital_Status'].value_counts()\n",
    "print(tb)\n",
    "ax = sns.countplot(x = 'Marital_Status',  data=bank_df)\n",
    "ax.set_title('Bar chart on Marital_Status of customer of bank')\n",
    "plt.show()"
   ]
  },
  {
   "cell_type": "code",
   "execution_count": 11,
   "id": "f6a2531b",
   "metadata": {},
   "outputs": [
    {
     "name": "stdout",
     "output_type": "stream",
     "text": [
      "Less than $40K    3561\n",
      "$40K - $60K       1790\n",
      "$80K - $120K      1535\n",
      "$60K - $80K       1402\n",
      "abc               1112\n",
      "$120K +            727\n",
      "Name: Income_Category, dtype: int64\n"
     ]
    },
    {
     "data": {
      "image/png": "[encoded data removed]",
      "text/plain": [
       "<Figure size 432x288 with 1 Axes>"
      ]
     },
     "metadata": {
      "needs_background": "light"
     },
     "output_type": "display_data"
    }
   ],
   "source": [
    "# Analysis and visualization of Income_Category of Customer of bank\n",
    "tb = bank_df['Income_Category'].value_counts()\n",
    "print(tb)\n",
    "ax = sns.countplot(x = 'Income_Category',  data=bank_df)\n",
    "ax.set_title('Bar chart on Income_Category of customer of bank')\n",
    "plt.xticks(rotation=30)\n",
    "plt.show()"
   ]
  },
  {
   "cell_type": "markdown",
   "id": "b50d5a2e",
   "metadata": {},
   "source": [
    "We observe that there is category of abc in Income bracket for customers of bank . This naming of category doesnt help us.We rename the category to unknown/Not disclosed to identify such customers."
   ]
  },
  {
   "cell_type": "code",
   "execution_count": 12,
   "id": "b9ac3e92",
   "metadata": {},
   "outputs": [
    {
     "name": "stdout",
     "output_type": "stream",
     "text": [
      "Less than $40K          3561\n",
      "$40K - $60K             1790\n",
      "$80K - $120K            1535\n",
      "$60K - $80K             1402\n",
      "Unknown/Notdisclosed    1112\n",
      "$120K +                  727\n",
      "Name: Income_Category, dtype: int64\n"
     ]
    },
    {
     "data": {
      "image/png": "[encoded data removed]",
      "text/plain": [
       "<Figure size 432x288 with 1 Axes>"
      ]
     },
     "metadata": {
      "needs_background": "light"
     },
     "output_type": "display_data"
    }
   ],
   "source": [
    "# Fixing unknown category data issue\n",
    "bank_df[\"Income_Category\"].replace({\"abc\": \"Unknown/Notdisclosed\"}, inplace=True)\n",
    "\n",
    "tb = bank_df['Income_Category'].value_counts()\n",
    "print(tb)\n",
    "ax = sns.countplot(x = 'Income_Category',  data=bank_df)\n",
    "ax.set_title('Bar chart on Income Category of customer of bank')\n",
    "plt.xticks(rotation=30)\n",
    "plt.show()"
   ]
  },
  {
   "cell_type": "code",
   "execution_count": 13,
   "id": "260d2bd1",
   "metadata": {},
   "outputs": [
    {
     "name": "stdout",
     "output_type": "stream",
     "text": [
      "Blue        9436\n",
      "Silver       555\n",
      "Gold         116\n",
      "Platinum      20\n",
      "Name: Card_Category, dtype: int64\n"
     ]
    },
    {
     "data": {
      "image/png": "[encoded data removed]",
      "text/plain": [
       "<Figure size 432x288 with 1 Axes>"
      ]
     },
     "metadata": {
      "needs_background": "light"
     },
     "output_type": "display_data"
    }
   ],
   "source": [
    "# Analysis and visualization of Card_Category of Customer of bank\n",
    "tb = bank_df['Card_Category'].value_counts()\n",
    "print(tb)\n",
    "ax = sns.countplot(x = 'Card_Category',  data=bank_df)\n",
    "ax.set_title('Bar chart on Card Category of credit card of customer of bank')\n",
    "plt.xticks(rotation=30)\n",
    "plt.show()"
   ]
  },
  {
   "cell_type": "markdown",
   "id": "73e24caa",
   "metadata": {},
   "source": [
    "Majority of customers have Blue credit card and only handful have Platinum"
   ]
  },
  {
   "cell_type": "code",
   "execution_count": 14,
   "id": "25212386",
   "metadata": {},
   "outputs": [
    {
     "name": "stdout",
     "output_type": "stream",
     "text": [
      "3    2732\n",
      "2    2655\n",
      "1    1838\n",
      "4    1574\n",
      "0     904\n",
      "5     424\n",
      "Name: Dependent_count, dtype: int64\n"
     ]
    },
    {
     "data": {
      "image/png": "[encoded data removed]",
      "text/plain": [
       "<Figure size 432x288 with 1 Axes>"
      ]
     },
     "metadata": {
      "needs_background": "light"
     },
     "output_type": "display_data"
    }
   ],
   "source": [
    "# Analysis and visualization of Card_Category of Customer of bank\n",
    "tb = bank_df['Dependent_count'].value_counts()\n",
    "print(tb)\n",
    "ax = sns.countplot(x = 'Dependent_count',  data=bank_df)\n",
    "ax.set_title('Bar chart on Dependent count of customer of bank')\n",
    "plt.show()"
   ]
  },
  {
   "cell_type": "code",
   "execution_count": 15,
   "id": "202b2661",
   "metadata": {},
   "outputs": [
    {
     "name": "stdout",
     "output_type": "stream",
     "text": [
      "3    2305\n",
      "4    1912\n",
      "5    1891\n",
      "6    1866\n",
      "2    1243\n",
      "1     910\n",
      "Name: Total_Relationship_Count, dtype: int64\n"
     ]
    },
    {
     "data": {
      "image/png": "[encoded data removed]",
      "text/plain": [
       "<Figure size 432x288 with 1 Axes>"
      ]
     },
     "metadata": {
      "needs_background": "light"
     },
     "output_type": "display_data"
    }
   ],
   "source": [
    "# Analysis and visualization of dependent count  of Customer of bank\n",
    "tb = bank_df['Total_Relationship_Count'].value_counts()\n",
    "print(tb)\n",
    "ax = sns.countplot(x = 'Total_Relationship_Count',  data=bank_df)\n",
    "ax.set_title('Bar chart on Dependent count of customer of bank')\n",
    "plt.show()"
   ]
  },
  {
   "cell_type": "code",
   "execution_count": 16,
   "id": "67f883e5",
   "metadata": {},
   "outputs": [
    {
     "data": {
      "image/png": "[encoded data removed]",
      "text/plain": [
       "<Figure size 432x288 with 1 Axes>"
      ]
     },
     "metadata": {
      "needs_background": "light"
     },
     "output_type": "display_data"
    }
   ],
   "source": [
    "# Analysis and visualization of Average age  of  customers of bank\n",
    "ax = sns.histplot(x = 'Credit_Limit',  data=bank_df)\n",
    "ax.set_title('Distribution of Credit Limit among customers')\n",
    "plt.show()"
   ]
  },
  {
   "cell_type": "markdown",
   "id": "designing-oxygen",
   "metadata": {},
   "source": [
    "It looks like the bank has some kind of policy with credit limit at 35k which is causing some abnormal behaviour of the credit limit distribution."
   ]
  },
  {
   "cell_type": "code",
   "execution_count": 17,
   "id": "f3fb5373",
   "metadata": {},
   "outputs": [
    {
     "data": {
      "image/png": "[encoded data removed]",
      "text/plain": [
       "<Figure size 432x288 with 1 Axes>"
      ]
     },
     "metadata": {
      "needs_background": "light"
     },
     "output_type": "display_data"
    }
   ],
   "source": [
    "# Analysis and visualization of Average age  of  customers of bank\n",
    "ax = sns.histplot(x = 'Avg_Utilization_Ratio',  data=bank_df)\n",
    "ax.set_title('Distribution of Credit Limit spent among customers')\n",
    "plt.show()"
   ]
  },
  {
   "cell_type": "markdown",
   "id": "e4075876",
   "metadata": {},
   "source": [
    "##### Bivariate Analysis"
   ]
  },
  {
   "cell_type": "code",
   "execution_count": 18,
   "id": "1b98b601",
   "metadata": {},
   "outputs": [
    {
     "data": {
      "image/png": "[encoded data removed]",
      "text/plain": [
       "<Figure size 432x288 with 1 Axes>"
      ]
     },
     "metadata": {
      "needs_background": "light"
     },
     "output_type": "display_data"
    }
   ],
   "source": [
    "# Visualization of age of customers with active accounts\n",
    "ax = sns.histplot(x = 'Customer_Age', hue='Attrition_Flag', data=bank_df, multiple=\"stack\")\n",
    "ax.set_title('Stacked histogram of age of customers with active/inactive accounts')\n",
    "plt.show()"
   ]
  },
  {
   "cell_type": "markdown",
   "id": "18c2486f",
   "metadata": {},
   "source": [
    "It seems the attired customer are distributed along all the age "
   ]
  },
  {
   "cell_type": "code",
   "execution_count": 19,
   "id": "672b9783",
   "metadata": {},
   "outputs": [
    {
     "data": {
      "image/png": "[encoded data removed]",
      "text/plain": [
       "<Figure size 432x288 with 1 Axes>"
      ]
     },
     "metadata": {
      "needs_background": "light"
     },
     "output_type": "display_data"
    }
   ],
   "source": [
    "# Visualization of of Income category  with active/inactive accounts\n",
    "ax = sns.histplot(x = 'Income_Category', hue='Attrition_Flag', data=bank_df, multiple=\"stack\")\n",
    "ax.set_title('Stacked histogram of Income category  with active/inactive accounts')\n",
    "plt.xticks(rotation=30)\n",
    "plt.show()"
   ]
  },
  {
   "cell_type": "code",
   "execution_count": 20,
   "id": "4953d25a",
   "metadata": {},
   "outputs": [
    {
     "data": {
      "image/png": "[encoded data removed]",
      "text/plain": [
       "<Figure size 432x288 with 1 Axes>"
      ]
     },
     "metadata": {
      "needs_background": "light"
     },
     "output_type": "display_data"
    }
   ],
   "source": [
    "# Visualization of of Income category  with active/inactive accounts\n",
    "ax = sns.histplot(x = 'Gender', hue='Attrition_Flag', data=bank_df, multiple=\"stack\")\n",
    "ax.set_title('Stacked histogram of Gender  with active/inactive accounts')\n",
    "plt.xticks(rotation=30)\n",
    "plt.show()"
   ]
  },
  {
   "cell_type": "code",
   "execution_count": 21,
   "id": "cdfcf92b",
   "metadata": {},
   "outputs": [
    {
     "data": {
      "image/png": "[encoded data removed]",
      "text/plain": [
       "<Figure size 432x288 with 1 Axes>"
      ]
     },
     "metadata": {
      "needs_background": "light"
     },
     "output_type": "display_data"
    }
   ],
   "source": [
    "# Visualization of of Income category  with active/inactive accounts\n",
    "ax = sns.histplot(x = 'Avg_Utilization_Ratio', hue='Attrition_Flag', data=bank_df, multiple=\"stack\")\n",
    "ax.set_title('Stacked histogram of Credit Limit spent  with active/inactive accounts')\n",
    "plt.xticks(rotation=30)\n",
    "plt.show()"
   ]
  },
  {
   "cell_type": "markdown",
   "id": "2400626b",
   "metadata": {},
   "source": [
    "Expect the few outliers majority of customers who are not existing customers haven't spent any money of their credit card limit."
   ]
  },
  {
   "cell_type": "markdown",
   "id": "57e6d512",
   "metadata": {},
   "source": [
    "### Data Pre-processing"
   ]
  },
  {
   "cell_type": "markdown",
   "id": "28a6540c",
   "metadata": {},
   "source": [
    "##### Missing value treatment "
   ]
  },
  {
   "cell_type": "code",
   "execution_count": 22,
   "id": "5a500f2c",
   "metadata": {},
   "outputs": [
    {
     "data": {
      "text/plain": [
       "Attrition_Flag                 0\n",
       "Customer_Age                   0\n",
       "Gender                         0\n",
       "Dependent_count                0\n",
       "Education_Level             1519\n",
       "Marital_Status               749\n",
       "Income_Category                0\n",
       "Card_Category                  0\n",
       "Months_on_book                 0\n",
       "Total_Relationship_Count       0\n",
       "Months_Inactive_12_mon         0\n",
       "Contacts_Count_12_mon          0\n",
       "Credit_Limit                   0\n",
       "Total_Revolving_Bal            0\n",
       "Avg_Open_To_Buy                0\n",
       "Total_Amt_Chng_Q4_Q1           0\n",
       "Total_Trans_Amt                0\n",
       "Total_Trans_Ct                 0\n",
       "Total_Ct_Chng_Q4_Q1            0\n",
       "Avg_Utilization_Ratio          0\n",
       "dtype: int64"
      ]
     },
     "execution_count": 22,
     "metadata": {},
     "output_type": "execute_result"
    }
   ],
   "source": [
    "# Checking missing values in dataframe\n",
    "bank_df.isnull().sum()"
   ]
  },
  {
   "cell_type": "markdown",
   "id": "otherwise-progress",
   "metadata": {},
   "source": [
    "Only two columns has missing values. We will treat them by filling mode of their corresponding categories."
   ]
  },
  {
   "cell_type": "code",
   "execution_count": 23,
   "id": "f9189fb6",
   "metadata": {},
   "outputs": [
    {
     "data": {
      "text/plain": [
       "Attrition_Flag              0\n",
       "Customer_Age                0\n",
       "Gender                      0\n",
       "Dependent_count             0\n",
       "Education_Level             0\n",
       "Marital_Status              0\n",
       "Income_Category             0\n",
       "Card_Category               0\n",
       "Months_on_book              0\n",
       "Total_Relationship_Count    0\n",
       "Months_Inactive_12_mon      0\n",
       "Contacts_Count_12_mon       0\n",
       "Credit_Limit                0\n",
       "Total_Revolving_Bal         0\n",
       "Avg_Open_To_Buy             0\n",
       "Total_Amt_Chng_Q4_Q1        0\n",
       "Total_Trans_Amt             0\n",
       "Total_Trans_Ct              0\n",
       "Total_Ct_Chng_Q4_Q1         0\n",
       "Avg_Utilization_Ratio       0\n",
       "dtype: int64"
      ]
     },
     "execution_count": 23,
     "metadata": {},
     "output_type": "execute_result"
    }
   ],
   "source": [
    "#Fill the missing values with the most frequent value \n",
    "mode_education = bank_df.mode()['Education_Level'][0]\n",
    "bank_df['Education_Level'] = bank_df['Education_Level'].fillna(value=mode_education)\n",
    "mode_martial = bank_df.mode()['Marital_Status'][0]\n",
    "bank_df['Marital_Status'] = bank_df['Marital_Status'].fillna(value=mode_martial)\n",
    "bank_df.isnull().sum()"
   ]
  },
  {
   "cell_type": "markdown",
   "id": "3a08343f",
   "metadata": {},
   "source": [
    "##### Categorical features encoding"
   ]
  },
  {
   "cell_type": "markdown",
   "id": "017f3990",
   "metadata": {},
   "source": [
    "Since all the categorical features in the datasets are Nominal, we need to do dummy encoding before applying machine learning"
   ]
  },
  {
   "cell_type": "code",
   "execution_count": 24,
   "id": "86bc820b",
   "metadata": {},
   "outputs": [
    {
     "data": {
      "text/html": [
       "<div>\n",
       "<style scoped>\n",
       "    .dataframe tbody tr th:only-of-type {\n",
       "        vertical-align: middle;\n",
       "    }\n",
       "\n",
       "    .dataframe tbody tr th {\n",
       "        vertical-align: top;\n",
       "    }\n",
       "\n",
       "    .dataframe thead th {\n",
       "        text-align: right;\n",
       "    }\n",
       "</style>\n",
       "<table border=\"1\" class=\"dataframe\">\n",
       "  <thead>\n",
       "    <tr style=\"text-align: right;\">\n",
       "      <th></th>\n",
       "      <th>Customer_Age</th>\n",
       "      <th>Dependent_count</th>\n",
       "      <th>Months_on_book</th>\n",
       "      <th>Total_Relationship_Count</th>\n",
       "      <th>Months_Inactive_12_mon</th>\n",
       "      <th>Contacts_Count_12_mon</th>\n",
       "      <th>Credit_Limit</th>\n",
       "      <th>Total_Revolving_Bal</th>\n",
       "      <th>Avg_Open_To_Buy</th>\n",
       "      <th>Total_Amt_Chng_Q4_Q1</th>\n",
       "      <th>...</th>\n",
       "      <th>Marital_Status_Married</th>\n",
       "      <th>Marital_Status_Single</th>\n",
       "      <th>Income_Category_$40K - $60K</th>\n",
       "      <th>Income_Category_$60K - $80K</th>\n",
       "      <th>Income_Category_$80K - $120K</th>\n",
       "      <th>Income_Category_Less than $40K</th>\n",
       "      <th>Income_Category_Unknown/Notdisclosed</th>\n",
       "      <th>Card_Category_Gold</th>\n",
       "      <th>Card_Category_Platinum</th>\n",
       "      <th>Card_Category_Silver</th>\n",
       "    </tr>\n",
       "  </thead>\n",
       "  <tbody>\n",
       "    <tr>\n",
       "      <th>0</th>\n",
       "      <td>45</td>\n",
       "      <td>3</td>\n",
       "      <td>39</td>\n",
       "      <td>5</td>\n",
       "      <td>1</td>\n",
       "      <td>3</td>\n",
       "      <td>12691.0</td>\n",
       "      <td>777</td>\n",
       "      <td>11914.0</td>\n",
       "      <td>1.335</td>\n",
       "      <td>...</td>\n",
       "      <td>1</td>\n",
       "      <td>0</td>\n",
       "      <td>0</td>\n",
       "      <td>1</td>\n",
       "      <td>0</td>\n",
       "      <td>0</td>\n",
       "      <td>0</td>\n",
       "      <td>0</td>\n",
       "      <td>0</td>\n",
       "      <td>0</td>\n",
       "    </tr>\n",
       "    <tr>\n",
       "      <th>1</th>\n",
       "      <td>49</td>\n",
       "      <td>5</td>\n",
       "      <td>44</td>\n",
       "      <td>6</td>\n",
       "      <td>1</td>\n",
       "      <td>2</td>\n",
       "      <td>8256.0</td>\n",
       "      <td>864</td>\n",
       "      <td>7392.0</td>\n",
       "      <td>1.541</td>\n",
       "      <td>...</td>\n",
       "      <td>0</td>\n",
       "      <td>1</td>\n",
       "      <td>0</td>\n",
       "      <td>0</td>\n",
       "      <td>0</td>\n",
       "      <td>1</td>\n",
       "      <td>0</td>\n",
       "      <td>0</td>\n",
       "      <td>0</td>\n",
       "      <td>0</td>\n",
       "    </tr>\n",
       "    <tr>\n",
       "      <th>2</th>\n",
       "      <td>51</td>\n",
       "      <td>3</td>\n",
       "      <td>36</td>\n",
       "      <td>4</td>\n",
       "      <td>1</td>\n",
       "      <td>0</td>\n",
       "      <td>3418.0</td>\n",
       "      <td>0</td>\n",
       "      <td>3418.0</td>\n",
       "      <td>2.594</td>\n",
       "      <td>...</td>\n",
       "      <td>1</td>\n",
       "      <td>0</td>\n",
       "      <td>0</td>\n",
       "      <td>0</td>\n",
       "      <td>1</td>\n",
       "      <td>0</td>\n",
       "      <td>0</td>\n",
       "      <td>0</td>\n",
       "      <td>0</td>\n",
       "      <td>0</td>\n",
       "    </tr>\n",
       "    <tr>\n",
       "      <th>3</th>\n",
       "      <td>40</td>\n",
       "      <td>4</td>\n",
       "      <td>34</td>\n",
       "      <td>3</td>\n",
       "      <td>4</td>\n",
       "      <td>1</td>\n",
       "      <td>3313.0</td>\n",
       "      <td>2517</td>\n",
       "      <td>796.0</td>\n",
       "      <td>1.405</td>\n",
       "      <td>...</td>\n",
       "      <td>1</td>\n",
       "      <td>0</td>\n",
       "      <td>0</td>\n",
       "      <td>0</td>\n",
       "      <td>0</td>\n",
       "      <td>1</td>\n",
       "      <td>0</td>\n",
       "      <td>0</td>\n",
       "      <td>0</td>\n",
       "      <td>0</td>\n",
       "    </tr>\n",
       "    <tr>\n",
       "      <th>4</th>\n",
       "      <td>40</td>\n",
       "      <td>3</td>\n",
       "      <td>21</td>\n",
       "      <td>5</td>\n",
       "      <td>1</td>\n",
       "      <td>0</td>\n",
       "      <td>4716.0</td>\n",
       "      <td>0</td>\n",
       "      <td>4716.0</td>\n",
       "      <td>2.175</td>\n",
       "      <td>...</td>\n",
       "      <td>1</td>\n",
       "      <td>0</td>\n",
       "      <td>0</td>\n",
       "      <td>1</td>\n",
       "      <td>0</td>\n",
       "      <td>0</td>\n",
       "      <td>0</td>\n",
       "      <td>0</td>\n",
       "      <td>0</td>\n",
       "      <td>0</td>\n",
       "    </tr>\n",
       "    <tr>\n",
       "      <th>...</th>\n",
       "      <td>...</td>\n",
       "      <td>...</td>\n",
       "      <td>...</td>\n",
       "      <td>...</td>\n",
       "      <td>...</td>\n",
       "      <td>...</td>\n",
       "      <td>...</td>\n",
       "      <td>...</td>\n",
       "      <td>...</td>\n",
       "      <td>...</td>\n",
       "      <td>...</td>\n",
       "      <td>...</td>\n",
       "      <td>...</td>\n",
       "      <td>...</td>\n",
       "      <td>...</td>\n",
       "      <td>...</td>\n",
       "      <td>...</td>\n",
       "      <td>...</td>\n",
       "      <td>...</td>\n",
       "      <td>...</td>\n",
       "      <td>...</td>\n",
       "    </tr>\n",
       "    <tr>\n",
       "      <th>10122</th>\n",
       "      <td>50</td>\n",
       "      <td>2</td>\n",
       "      <td>40</td>\n",
       "      <td>3</td>\n",
       "      <td>2</td>\n",
       "      <td>3</td>\n",
       "      <td>4003.0</td>\n",
       "      <td>1851</td>\n",
       "      <td>2152.0</td>\n",
       "      <td>0.703</td>\n",
       "      <td>...</td>\n",
       "      <td>0</td>\n",
       "      <td>1</td>\n",
       "      <td>1</td>\n",
       "      <td>0</td>\n",
       "      <td>0</td>\n",
       "      <td>0</td>\n",
       "      <td>0</td>\n",
       "      <td>0</td>\n",
       "      <td>0</td>\n",
       "      <td>0</td>\n",
       "    </tr>\n",
       "    <tr>\n",
       "      <th>10123</th>\n",
       "      <td>41</td>\n",
       "      <td>2</td>\n",
       "      <td>25</td>\n",
       "      <td>4</td>\n",
       "      <td>2</td>\n",
       "      <td>3</td>\n",
       "      <td>4277.0</td>\n",
       "      <td>2186</td>\n",
       "      <td>2091.0</td>\n",
       "      <td>0.804</td>\n",
       "      <td>...</td>\n",
       "      <td>0</td>\n",
       "      <td>0</td>\n",
       "      <td>1</td>\n",
       "      <td>0</td>\n",
       "      <td>0</td>\n",
       "      <td>0</td>\n",
       "      <td>0</td>\n",
       "      <td>0</td>\n",
       "      <td>0</td>\n",
       "      <td>0</td>\n",
       "    </tr>\n",
       "    <tr>\n",
       "      <th>10124</th>\n",
       "      <td>44</td>\n",
       "      <td>1</td>\n",
       "      <td>36</td>\n",
       "      <td>5</td>\n",
       "      <td>3</td>\n",
       "      <td>4</td>\n",
       "      <td>5409.0</td>\n",
       "      <td>0</td>\n",
       "      <td>5409.0</td>\n",
       "      <td>0.819</td>\n",
       "      <td>...</td>\n",
       "      <td>1</td>\n",
       "      <td>0</td>\n",
       "      <td>0</td>\n",
       "      <td>0</td>\n",
       "      <td>0</td>\n",
       "      <td>1</td>\n",
       "      <td>0</td>\n",
       "      <td>0</td>\n",
       "      <td>0</td>\n",
       "      <td>0</td>\n",
       "    </tr>\n",
       "    <tr>\n",
       "      <th>10125</th>\n",
       "      <td>30</td>\n",
       "      <td>2</td>\n",
       "      <td>36</td>\n",
       "      <td>4</td>\n",
       "      <td>3</td>\n",
       "      <td>3</td>\n",
       "      <td>5281.0</td>\n",
       "      <td>0</td>\n",
       "      <td>5281.0</td>\n",
       "      <td>0.535</td>\n",
       "      <td>...</td>\n",
       "      <td>1</td>\n",
       "      <td>0</td>\n",
       "      <td>1</td>\n",
       "      <td>0</td>\n",
       "      <td>0</td>\n",
       "      <td>0</td>\n",
       "      <td>0</td>\n",
       "      <td>0</td>\n",
       "      <td>0</td>\n",
       "      <td>0</td>\n",
       "    </tr>\n",
       "    <tr>\n",
       "      <th>10126</th>\n",
       "      <td>43</td>\n",
       "      <td>2</td>\n",
       "      <td>25</td>\n",
       "      <td>6</td>\n",
       "      <td>2</td>\n",
       "      <td>4</td>\n",
       "      <td>10388.0</td>\n",
       "      <td>1961</td>\n",
       "      <td>8427.0</td>\n",
       "      <td>0.703</td>\n",
       "      <td>...</td>\n",
       "      <td>1</td>\n",
       "      <td>0</td>\n",
       "      <td>0</td>\n",
       "      <td>0</td>\n",
       "      <td>0</td>\n",
       "      <td>1</td>\n",
       "      <td>0</td>\n",
       "      <td>0</td>\n",
       "      <td>0</td>\n",
       "      <td>1</td>\n",
       "    </tr>\n",
       "  </tbody>\n",
       "</table>\n",
       "<p>10127 rows × 30 columns</p>\n",
       "</div>"
      ],
      "text/plain": [
       "       Customer_Age  Dependent_count  Months_on_book  \\\n",
       "0                45                3              39   \n",
       "1                49                5              44   \n",
       "2                51                3              36   \n",
       "3                40                4              34   \n",
       "4                40                3              21   \n",
       "...             ...              ...             ...   \n",
       "10122            50                2              40   \n",
       "10123            41                2              25   \n",
       "10124            44                1              36   \n",
       "10125            30                2              36   \n",
       "10126            43                2              25   \n",
       "\n",
       "       Total_Relationship_Count  Months_Inactive_12_mon  \\\n",
       "0                             5                       1   \n",
       "1                             6                       1   \n",
       "2                             4                       1   \n",
       "3                             3                       4   \n",
       "4                             5                       1   \n",
       "...                         ...                     ...   \n",
       "10122                         3                       2   \n",
       "10123                         4                       2   \n",
       "10124                         5                       3   \n",
       "10125                         4                       3   \n",
       "10126                         6                       2   \n",
       "\n",
       "       Contacts_Count_12_mon  Credit_Limit  Total_Revolving_Bal  \\\n",
       "0                          3       12691.0                  777   \n",
       "1                          2        8256.0                  864   \n",
       "2                          0        3418.0                    0   \n",
       "3                          1        3313.0                 2517   \n",
       "4                          0        4716.0                    0   \n",
       "...                      ...           ...                  ...   \n",
       "10122                      3        4003.0                 1851   \n",
       "10123                      3        4277.0                 2186   \n",
       "10124                      4        5409.0                    0   \n",
       "10125                      3        5281.0                    0   \n",
       "10126                      4       10388.0                 1961   \n",
       "\n",
       "       Avg_Open_To_Buy  Total_Amt_Chng_Q4_Q1  ...  Marital_Status_Married  \\\n",
       "0              11914.0                 1.335  ...                       1   \n",
       "1               7392.0                 1.541  ...                       0   \n",
       "2               3418.0                 2.594  ...                       1   \n",
       "3                796.0                 1.405  ...                       1   \n",
       "4               4716.0                 2.175  ...                       1   \n",
       "...                ...                   ...  ...                     ...   \n",
       "10122           2152.0                 0.703  ...                       0   \n",
       "10123           2091.0                 0.804  ...                       0   \n",
       "10124           5409.0                 0.819  ...                       1   \n",
       "10125           5281.0                 0.535  ...                       1   \n",
       "10126           8427.0                 0.703  ...                       1   \n",
       "\n",
       "       Marital_Status_Single  Income_Category_$40K - $60K  \\\n",
       "0                          0                            0   \n",
       "1                          1                            0   \n",
       "2                          0                            0   \n",
       "3                          0                            0   \n",
       "4                          0                            0   \n",
       "...                      ...                          ...   \n",
       "10122                      1                            1   \n",
       "10123                      0                            1   \n",
       "10124                      0                            0   \n",
       "10125                      0                            1   \n",
       "10126                      0                            0   \n",
       "\n",
       "       Income_Category_$60K - $80K  Income_Category_$80K - $120K  \\\n",
       "0                                1                             0   \n",
       "1                                0                             0   \n",
       "2                                0                             1   \n",
       "3                                0                             0   \n",
       "4                                1                             0   \n",
       "...                            ...                           ...   \n",
       "10122                            0                             0   \n",
       "10123                            0                             0   \n",
       "10124                            0                             0   \n",
       "10125                            0                             0   \n",
       "10126                            0                             0   \n",
       "\n",
       "       Income_Category_Less than $40K  Income_Category_Unknown/Notdisclosed  \\\n",
       "0                                   0                                     0   \n",
       "1                                   1                                     0   \n",
       "2                                   0                                     0   \n",
       "3                                   1                                     0   \n",
       "4                                   0                                     0   \n",
       "...                               ...                                   ...   \n",
       "10122                               0                                     0   \n",
       "10123                               0                                     0   \n",
       "10124                               1                                     0   \n",
       "10125                               0                                     0   \n",
       "10126                               1                                     0   \n",
       "\n",
       "       Card_Category_Gold  Card_Category_Platinum  Card_Category_Silver  \n",
       "0                       0                       0                     0  \n",
       "1                       0                       0                     0  \n",
       "2                       0                       0                     0  \n",
       "3                       0                       0                     0  \n",
       "4                       0                       0                     0  \n",
       "...                   ...                     ...                   ...  \n",
       "10122                   0                       0                     0  \n",
       "10123                   0                       0                     0  \n",
       "10124                   0                       0                     0  \n",
       "10125                   0                       0                     0  \n",
       "10126                   0                       0                     1  \n",
       "\n",
       "[10127 rows x 30 columns]"
      ]
     },
     "execution_count": 24,
     "metadata": {},
     "output_type": "execute_result"
    }
   ],
   "source": [
    "# Performing dummy encoding of categorical features\n",
    "bank_df[\"Attrition_Flag\"].replace({\"Attrited Customer\": 0 , \"Existing Customer\": 1}, inplace=True)\n",
    "y_feature = bank_df['Attrition_Flag']\n",
    "bank_df.drop(['Attrition_Flag'] , axis=1,inplace=True)\n",
    "bank_df=pd.get_dummies(data=bank_df,drop_first=True)\n",
    "bank_df"
   ]
  },
  {
   "cell_type": "code",
   "execution_count": 25,
   "id": "33d236ce",
   "metadata": {},
   "outputs": [],
   "source": [
    "# Splitting the dataset into training and testing\n",
    "x_features = bank_df\n",
    "\n",
    "X_temp, X_test, y_temp, y_test = train_test_split(x_features, y_feature, test_size=0.2, random_state=0, stratify = y_feature)\n",
    "\n",
    "X_train, X_val, y_train, y_val = train_test_split(X_temp, y_temp, test_size=0.2, random_state=0, stratify = y_temp)\n"
   ]
  },
  {
   "cell_type": "markdown",
   "id": "searching-mouth",
   "metadata": {},
   "source": [
    "Splitting the data into train, test and validation to avoid any kind of data leakage."
   ]
  },
  {
   "cell_type": "markdown",
   "id": "heated-difficulty",
   "metadata": {},
   "source": [
    "### Model building"
   ]
  },
  {
   "cell_type": "markdown",
   "id": "forty-sharing",
   "metadata": {},
   "source": [
    "##### Building base models using pipelines"
   ]
  },
  {
   "cell_type": "code",
   "execution_count": 26,
   "id": "718e3bfa",
   "metadata": {},
   "outputs": [],
   "source": [
    "#Using default for Inital Modelling \n",
    "\n",
    "#Setting up pipelines for required 6 models \n",
    "pipe_lr = Pipeline([('clflr', LogisticRegression(random_state=0))])\n",
    "pipe_dt = Pipeline([('clfdt', DecisionTreeClassifier(random_state=0))])\n",
    "pipe_rf = Pipeline([('clfrf', RandomForestClassifier(random_state=0))])\n",
    "pipe_bg = Pipeline([('clfbg', BaggingClassifier(random_state=0))])\n",
    "pipe_adaboost = Pipeline([('clfada',AdaBoostClassifier())])\n",
    "pipe_gradientboost = Pipeline([('clfgb',GradientBoostingClassifier())]) "
   ]
  },
  {
   "cell_type": "code",
   "execution_count": 27,
   "id": "f898e1b2",
   "metadata": {},
   "outputs": [],
   "source": [
    "#Default Grid params for logistic regression\n",
    "grid_params_lr = [{'clflr__penalty': ['l1'],\n",
    "                   'clflr__C': [1.0],\n",
    "                   'clflr__solver': ['liblinear']}] \n",
    "\n",
    "#Default Grid params for Random Forest\n",
    "grid_params_rf = [{'clfrf__criterion': ['gini'],\n",
    "                   'clfrf__min_samples_leaf': [3],\n",
    "                  'clfrf__max_depth': [3]}]\n",
    "\n",
    "# Default Grid params for decision tree\n",
    "grid_params_dt = [{'clfdt__criterion': ['gini'],\n",
    "                   'clfdt__min_samples_leaf': [3],\n",
    "                   'clfdt__max_depth': [3]}]\n",
    "\n",
    "# Default Grid params for Bagging Classifier \n",
    "grid_params_bagging = [{'clfbg__n_estimators':[10]}]\n",
    "\n",
    "# Default Grid params for Adaboost\n",
    "grid_params_ada = [{'clfada__n_estimators': [2],\n",
    "                    'clfada__learning_rate': [0.1] }]\n",
    "\n",
    "# Default Grid params for gradientboost\n",
    "grid_params_gb = [{'clfgb__n_estimators': [10],\n",
    "                    'clfgb__learning_rate': [0.1] }]"
   ]
  },
  {
   "cell_type": "code",
   "execution_count": 28,
   "id": "3873903e",
   "metadata": {},
   "outputs": [],
   "source": [
    "# Getting all the metrics for model performance evaludation\n",
    "scoring_metrics = {\"Accuracy\": make_scorer(accuracy_score), \"Recall\": make_scorer(recall_score),\n",
    "           \"F1\": make_scorer(f1_score), \"ROC_AUC\": make_scorer(roc_auc_score) }"
   ]
  },
  {
   "cell_type": "code",
   "execution_count": 29,
   "id": "2782c6c9",
   "metadata": {},
   "outputs": [],
   "source": [
    "#Using gridsearchCV with 5 fold cross validation in a pipeline\n",
    "gs_lr = GridSearchCV(estimator=pipe_lr, param_grid=grid_params_lr, scoring='accuracy',cv=5)\n",
    "gs_dt = GridSearchCV(estimator=pipe_dt, param_grid=grid_params_dt, scoring='accuracy',cv=5)\n",
    "gs_rf = GridSearchCV(estimator=pipe_rf, param_grid=grid_params_rf, scoring='accuracy',cv=5)\n",
    "gs_bagging = GridSearchCV(estimator=pipe_bg, param_grid=grid_params_bagging, scoring='accuracy',cv=5)\n",
    "gs_ada = GridSearchCV(estimator=pipe_adaboost, param_grid=grid_params_ada, scoring='accuracy',cv=5)\n",
    "gs_gb = GridSearchCV(estimator=pipe_gradientboost, param_grid=grid_params_gb, scoring='accuracy',cv=5)"
   ]
  },
  {
   "cell_type": "code",
   "execution_count": 30,
   "id": "f6bee8cc",
   "metadata": {},
   "outputs": [],
   "source": [
    "# List of pipelines for ease of iteration\n",
    "grids = [gs_lr,gs_dt,gs_rf,gs_bagging,gs_ada,gs_gb]\n",
    "grid_dict = {0: 'Logistic Regression',\n",
    "             1:'Decision Tree',\n",
    "             2: 'Random Forest',  \n",
    "             3:'Bagging Classifier',\n",
    "             4:'AdaBoost',\n",
    "             5:'Graident Bossting',\n",
    "             }"
   ]
  },
  {
   "cell_type": "code",
   "execution_count": 31,
   "id": "db4b332f",
   "metadata": {},
   "outputs": [
    {
     "name": "stdout",
     "output_type": "stream",
     "text": [
      "\n",
      "Estimator: Logistic Regression\n",
      "Val set accuracy score: 0.904 \n",
      "f1-score on Val set: 0.945\n",
      "Recall Score on Val set : 0.970\n",
      "Test set accuracy score: 0.897 \n",
      "f1-score on Test set: 0.940\n",
      "Recall Score on Test set : 0.965\n",
      "\n",
      "Estimator: Decision Tree\n",
      "Val set accuracy score: 0.911 \n",
      "f1-score on Val set: 0.947\n",
      "Recall Score on Val set : 0.951\n",
      "Test set accuracy score: 0.913 \n",
      "f1-score on Test set: 0.948\n",
      "Recall Score on Test set : 0.950\n",
      "\n",
      "Estimator: Random Forest\n",
      "Val set accuracy score: 0.885 \n",
      "f1-score on Val set: 0.935\n",
      "Recall Score on Val set : 0.996\n",
      "Test set accuracy score: 0.885 \n",
      "f1-score on Test set: 0.936\n",
      "Recall Score on Test set : 0.992\n",
      "\n",
      "Estimator: Bagging Classifier\n",
      "Val set accuracy score: 0.960 \n",
      "f1-score on Val set: 0.976\n",
      "Recall Score on Val set : 0.975\n",
      "Test set accuracy score: 0.960 \n",
      "f1-score on Test set: 0.976\n",
      "Recall Score on Test set : 0.979\n",
      "\n",
      "Estimator: AdaBoost\n",
      "Val set accuracy score: 0.839 \n",
      "f1-score on Val set: 0.912\n",
      "Recall Score on Val set : 1.000\n",
      "Test set accuracy score: 0.840 \n",
      "f1-score on Test set: 0.913\n",
      "Recall Score on Test set : 1.000\n",
      "\n",
      "Estimator: Graident Bossting\n",
      "Val set accuracy score: 0.914 \n",
      "f1-score on Val set: 0.951\n",
      "Recall Score on Val set : 0.998\n",
      "Test set accuracy score: 0.902 \n",
      "f1-score on Test set: 0.944\n",
      "Recall Score on Test set : 0.993\n"
     ]
    }
   ],
   "source": [
    "#Inital Model\n",
    "for idx, gs in enumerate(grids):\n",
    "    gs.fit(X_train, y_train)\n",
    "    y_pred_val = gs.predict(X_val)\n",
    "    print('\\nEstimator: %s' % grid_dict[idx])\n",
    "    print('Val set accuracy score: %.3f ' \n",
    "              % accuracy_score(y_val, y_pred_val))\n",
    "    print('f1-score on Val set: {0:0.3f}'. format(f1_score(y_val, y_pred_val)))\n",
    "    print('Recall Score on Val set : {0:0.3f}'.format(recall_score(y_val, y_pred_val)))\n",
    "    y_pred_test = gs.predict(X_test)\n",
    "    print('Test set accuracy score: %.3f ' \n",
    "              % accuracy_score(y_test, y_pred_test))\n",
    "    print('f1-score on Test set: {0:0.3f}'. format(f1_score(y_test, y_pred_test)))\n",
    "    print('Recall Score on Test set : {0:0.3f}'.format(recall_score(y_test, y_pred_test)))"
   ]
  },
  {
   "cell_type": "markdown",
   "id": "available-professional",
   "metadata": {},
   "source": [
    "### Model building - Oversampled data"
   ]
  },
  {
   "cell_type": "code",
   "execution_count": 32,
   "id": "f6fd9626",
   "metadata": {},
   "outputs": [],
   "source": [
    "#Oversampling using SMOTE\n",
    "os_pipe_lr = ImblearnPipeline([('sampling', SMOTE()),('clflr', LogisticRegression(random_state=0))])\n",
    "os_pipe_dt = ImblearnPipeline([('sampling', SMOTE()),('clfdt', DecisionTreeClassifier(random_state=0))])\n",
    "os_pipe_rf = ImblearnPipeline([('sampling', SMOTE()),('clfrf', RandomForestClassifier(random_state=0))])\n",
    "os_pipe_bg = ImblearnPipeline([('sampling', SMOTE()),('clfbg', BaggingClassifier(random_state=0))])\n",
    "os_pipe_adaboost = ImblearnPipeline([('sampling', SMOTE()),('clfada',AdaBoostClassifier())])\n",
    "os_pipe_gradientboost = ImblearnPipeline([('sampling', SMOTE()),('clfgb',GradientBoostingClassifier())]) "
   ]
  },
  {
   "cell_type": "code",
   "execution_count": 33,
   "id": "dd85cec1",
   "metadata": {},
   "outputs": [],
   "source": [
    "#Using Pipeline GridSearchCV and SMOTE \n",
    "os_gs_lr = GridSearchCV(estimator=os_pipe_lr, param_grid=grid_params_lr, scoring=scoring_metrics,cv=5,refit=\"ROC_AUC\")\n",
    "os_gs_dt = GridSearchCV(estimator=os_pipe_dt, param_grid=grid_params_dt, scoring=scoring_metrics,cv=5,refit=\"ROC_AUC\")\n",
    "os_gs_rf = GridSearchCV(estimator=os_pipe_rf, param_grid=grid_params_rf, scoring=scoring_metrics,cv=5,refit=\"ROC_AUC\")\n",
    "os_gs_bagging = GridSearchCV(estimator=os_pipe_bg, param_grid=grid_params_bagging, scoring=scoring_metrics,cv=5,refit=\"ROC_AUC\")\n",
    "os_gs_ada = GridSearchCV(estimator=os_pipe_adaboost, param_grid=grid_params_ada, scoring=scoring_metrics,cv=5,refit=\"ROC_AUC\")\n",
    "os_gs_gb = GridSearchCV(estimator=os_pipe_gradientboost, param_grid=grid_params_gb, scoring=scoring_metrics,cv=5,refit=\"ROC_AUC\")\n"
   ]
  },
  {
   "cell_type": "code",
   "execution_count": 34,
   "id": "264b542c",
   "metadata": {},
   "outputs": [
    {
     "name": "stdout",
     "output_type": "stream",
     "text": [
      "\n",
      "Estimator: Logistic Regression\n",
      "Oversampled Val set accuracy score: 0.893 \n",
      "Oversampled f1-score on Val set: 0.936\n",
      "Oversampled Recall Score on Val set : 0.936\n",
      "Oversampled Val set accuracy score: 0.881 \n",
      "Oversampled f1-score on Val set: 0.929\n",
      "Oversampled Recall Score on Val set : 0.927\n",
      "\n",
      "Estimator: Decision Tree\n",
      "Oversampled Val set accuracy score: 0.840 \n",
      "Oversampled f1-score on Val set: 0.897\n",
      "Oversampled Recall Score on Val set : 0.829\n",
      "Oversampled Val set accuracy score: 0.845 \n",
      "Oversampled f1-score on Val set: 0.900\n",
      "Oversampled Recall Score on Val set : 0.838\n",
      "\n",
      "Estimator: Random Forest\n",
      "Oversampled Val set accuracy score: 0.886 \n",
      "Oversampled f1-score on Val set: 0.929\n",
      "Oversampled Recall Score on Val set : 0.896\n",
      "Oversampled Val set accuracy score: 0.882 \n",
      "Oversampled f1-score on Val set: 0.927\n",
      "Oversampled Recall Score on Val set : 0.894\n",
      "\n",
      "Estimator: Bagging Classifier\n",
      "Oversampled Val set accuracy score: 0.956 \n",
      "Oversampled f1-score on Val set: 0.973\n",
      "Oversampled Recall Score on Val set : 0.961\n",
      "Oversampled Val set accuracy score: 0.942 \n",
      "Oversampled f1-score on Val set: 0.965\n",
      "Oversampled Recall Score on Val set : 0.954\n",
      "\n",
      "Estimator: AdaBoost\n",
      "Oversampled Val set accuracy score: 0.756 \n",
      "Oversampled f1-score on Val set: 0.836\n",
      "Oversampled Recall Score on Val set : 0.743\n",
      "Oversampled Val set accuracy score: 0.755 \n",
      "Oversampled f1-score on Val set: 0.835\n",
      "Oversampled Recall Score on Val set : 0.739\n",
      "\n",
      "Estimator: Graident Bossting\n",
      "Oversampled Val set accuracy score: 0.896 \n",
      "Oversampled f1-score on Val set: 0.935\n",
      "Oversampled Recall Score on Val set : 0.893\n",
      "Oversampled Val set accuracy score: 0.904 \n",
      "Oversampled f1-score on Val set: 0.941\n",
      "Oversampled Recall Score on Val set : 0.907\n"
     ]
    }
   ],
   "source": [
    "#Model using Oversampling\n",
    "os_grids = [os_gs_lr,os_gs_dt,os_gs_rf,os_gs_bagging,os_gs_ada,os_gs_gb]\n",
    "for idx, gs in enumerate(os_grids):\n",
    "    gs.fit(X_train, y_train)\n",
    "    y_pred_val = gs.predict(X_val)\n",
    "    print('\\nEstimator: %s' % grid_dict[idx])\n",
    "    print('Oversampled Val set accuracy score: %.3f ' \n",
    "              % accuracy_score(y_val, y_pred_val))\n",
    "    print('Oversampled f1-score on Val set: {0:0.3f}'. format(f1_score(y_val, y_pred_val)))\n",
    "    print('Oversampled Recall Score on Val set : {0:0.3f}'.format(recall_score(y_val, y_pred_val)))\n",
    "    y_pred_test = gs.predict(X_test)\n",
    "    print('Oversampled Val set accuracy score: %.3f ' \n",
    "              % accuracy_score(y_test, y_pred_test))\n",
    "    print('Oversampled f1-score on Val set: {0:0.3f}'. format(f1_score(y_test, y_pred_test)))\n",
    "    print('Oversampled Recall Score on Val set : {0:0.3f}'.format(recall_score(y_test, y_pred_test)))"
   ]
  },
  {
   "cell_type": "markdown",
   "id": "governmental-discovery",
   "metadata": {},
   "source": [
    "### Model building - Undersampled data"
   ]
  },
  {
   "cell_type": "code",
   "execution_count": 35,
   "id": "68a61cc4",
   "metadata": {},
   "outputs": [],
   "source": [
    "#Undersampling Using RandomUnderSampler\n",
    "us_pipe_lr = ImblearnPipeline([('sampling', RandomUnderSampler()),('clflr', LogisticRegression(random_state=0))])\n",
    "us_pipe_dt = ImblearnPipeline([('sampling', RandomUnderSampler()),('clfdt', DecisionTreeClassifier(random_state=0))])\n",
    "us_pipe_rf = ImblearnPipeline([('sampling', RandomUnderSampler()),('clfrf', RandomForestClassifier(random_state=0))])\n",
    "us_pipe_bg = ImblearnPipeline([('sampling', RandomUnderSampler()),('clfbg', BaggingClassifier(random_state=0))])\n",
    "us_pipe_adaboost = ImblearnPipeline([('sampling', RandomUnderSampler()),('clfada',AdaBoostClassifier())])\n",
    "us_pipe_gradientboost = ImblearnPipeline([('sampling', RandomUnderSampler()),('clfgb',GradientBoostingClassifier())]) "
   ]
  },
  {
   "cell_type": "code",
   "execution_count": 36,
   "id": "85ce0bdb",
   "metadata": {},
   "outputs": [],
   "source": [
    "#Using pipeine and RandomUnderSampler\n",
    "us_gs_lr = GridSearchCV(estimator=us_pipe_lr, param_grid=grid_params_lr, scoring=scoring_metrics,cv=5,refit=\"ROC_AUC\")\n",
    "us_gs_dt = GridSearchCV(estimator=us_pipe_dt, param_grid=grid_params_dt, scoring=scoring_metrics,cv=5,refit=\"ROC_AUC\")\n",
    "us_gs_rf = GridSearchCV(estimator=us_pipe_rf, param_grid=grid_params_rf, scoring=scoring_metrics,cv=5,refit=\"ROC_AUC\")\n",
    "us_gs_bagging = GridSearchCV(estimator=us_pipe_bg, param_grid=grid_params_bagging, scoring=scoring_metrics,cv=5,refit=\"ROC_AUC\")\n",
    "us_gs_ada = GridSearchCV(estimator=us_pipe_adaboost, param_grid=grid_params_ada, scoring=scoring_metrics,cv=5,refit=\"ROC_AUC\")\n",
    "us_gs_gb = GridSearchCV(estimator=us_pipe_gradientboost, param_grid=grid_params_gb, scoring=scoring_metrics,cv=5,refit=\"ROC_AUC\")"
   ]
  },
  {
   "cell_type": "code",
   "execution_count": 37,
   "id": "fd148b2b",
   "metadata": {},
   "outputs": [
    {
     "name": "stdout",
     "output_type": "stream",
     "text": [
      "\n",
      "Estimator: Logistic Regression\n",
      "Undersampled Val set accuracy score: 0.843 \n",
      "Undersampled f1-score on Val set: 0.899\n",
      "Undersampled Recall Score on Val set : 0.835\n",
      "Undersampled test set accuracy score: 0.834 \n",
      "Undersampled f1-score on test set: 0.894\n",
      "Undersampled Recall Score on test set : 0.830\n",
      "\n",
      "Estimator: Decision Tree\n",
      "Undersampled Val set accuracy score: 0.891 \n",
      "Undersampled f1-score on Val set: 0.934\n",
      "Undersampled Recall Score on Val set : 0.921\n",
      "Undersampled test set accuracy score: 0.898 \n",
      "Undersampled f1-score on test set: 0.938\n",
      "Undersampled Recall Score on test set : 0.925\n",
      "\n",
      "Estimator: Random Forest\n",
      "Undersampled Val set accuracy score: 0.870 \n",
      "Undersampled f1-score on Val set: 0.918\n",
      "Undersampled Recall Score on Val set : 0.868\n",
      "Undersampled test set accuracy score: 0.857 \n",
      "Undersampled f1-score on test set: 0.910\n",
      "Undersampled Recall Score on test set : 0.857\n",
      "\n",
      "Estimator: Bagging Classifier\n",
      "Undersampled Val set accuracy score: 0.918 \n",
      "Undersampled f1-score on Val set: 0.949\n",
      "Undersampled Recall Score on Val set : 0.916\n",
      "Undersampled test set accuracy score: 0.918 \n",
      "Undersampled f1-score on test set: 0.949\n",
      "Undersampled Recall Score on test set : 0.915\n",
      "\n",
      "Estimator: AdaBoost\n",
      "Undersampled Val set accuracy score: 0.746 \n",
      "Undersampled f1-score on Val set: 0.828\n",
      "Undersampled Recall Score on Val set : 0.726\n",
      "Undersampled test set accuracy score: 0.743 \n",
      "Undersampled f1-score on test set: 0.825\n",
      "Undersampled Recall Score on test set : 0.722\n",
      "\n",
      "Estimator: Graident Bossting\n",
      "Undersampled Val set accuracy score: 0.895 \n",
      "Undersampled f1-score on Val set: 0.934\n",
      "Undersampled Recall Score on Val set : 0.888\n",
      "Undersampled test set accuracy score: 0.899 \n",
      "Undersampled f1-score on test set: 0.937\n",
      "Undersampled Recall Score on test set : 0.895\n"
     ]
    }
   ],
   "source": [
    "#Undersampling Model\n",
    "us_grids = [us_gs_lr,us_gs_dt,us_gs_rf,us_gs_bagging,us_gs_ada,us_gs_gb]\n",
    "for idx, gs in enumerate(us_grids):\n",
    "    gs.fit(X_train, y_train)\n",
    "    y_pred_val = gs.predict(X_val)\n",
    "    print('\\nEstimator: %s' % grid_dict[idx])\n",
    "    print('Undersampled Val set accuracy score: %.3f ' \n",
    "              % accuracy_score(y_val, y_pred_val))\n",
    "    print('Undersampled f1-score on Val set: {0:0.3f}'. format(f1_score(y_val, y_pred_val)))\n",
    "    print('Undersampled Recall Score on Val set : {0:0.3f}'.format(recall_score(y_val, y_pred_val)))\n",
    "    y_pred_test = gs.predict(X_test)\n",
    "    print('Undersampled test set accuracy score: %.3f ' \n",
    "              % accuracy_score(y_test, y_pred_test))\n",
    "    print('Undersampled f1-score on test set: {0:0.3f}'. format(f1_score(y_test, y_pred_test)))\n",
    "    print('Undersampled Recall Score on test set : {0:0.3f}'.format(recall_score(y_test, y_pred_test)))"
   ]
  },
  {
   "cell_type": "markdown",
   "id": "northern-casting",
   "metadata": {},
   "source": [
    "### Hyperparameter tuning using random search"
   ]
  },
  {
   "cell_type": "markdown",
   "id": "4149a319",
   "metadata": {},
   "source": [
    "We are using linear regression, decision tree, and Ada boost Models for tunning as they were underfitting with the default parameters, and can be improved with hyperparameter tunning."
   ]
  },
  {
   "cell_type": "code",
   "execution_count": 38,
   "id": "c98a43d6",
   "metadata": {},
   "outputs": [],
   "source": [
    "# Tunning params\n",
    "param_range = [3,5,7,9]\n",
    "\n",
    "# Grid params for linear model\n",
    "grid_params_lr_tune = [{'clflr__penalty': ['l1', 'l2'],\n",
    "                   'clflr__C': [1.0, 0.5, 0.1],\n",
    "                   'clflr__solver': ['liblinear']}] \n",
    "\n",
    "\n",
    "# Grid params for decision tree\n",
    "grid_params_dt_tune = [{'clfdt__criterion': ['gini', 'entropy'],\n",
    "                   'clfdt__min_samples_leaf': param_range,\n",
    "                   'clfdt__max_depth': param_range}]\n",
    "\n",
    "# Grid params for Adaboost\n",
    "grid_params_ada_tune = [{'clfada__n_estimators': np.arange(10,300,20),\n",
    "                    'clfada__learning_rate': [0.01, 0.05, 0.1, 1] }]\n"
   ]
  },
  {
   "cell_type": "code",
   "execution_count": 39,
   "id": "a6013073",
   "metadata": {},
   "outputs": [],
   "source": [
    "#Using RandomizedSearchCV for tuning Hyperparameters\n",
    "tune_gs_lr = RandomizedSearchCV(estimator=pipe_lr, param_distributions=grid_params_lr_tune, scoring=scoring_metrics,cv=5,refit=\"ROC_AUC\")\n",
    "tune_gs_dt = RandomizedSearchCV(estimator=pipe_dt, param_distributions=grid_params_dt_tune, scoring=scoring_metrics,cv=5,refit=\"ROC_AUC\")\n",
    "tune_gs_ada = RandomizedSearchCV(estimator=pipe_adaboost, param_distributions=grid_params_ada_tune, scoring=scoring_metrics,cv=5,refit=\"ROC_AUC\")"
   ]
  },
  {
   "cell_type": "markdown",
   "id": "hired-france",
   "metadata": {},
   "source": [
    "### Model Performances"
   ]
  },
  {
   "cell_type": "code",
   "execution_count": 40,
   "id": "041e5836",
   "metadata": {},
   "outputs": [
    {
     "name": "stdout",
     "output_type": "stream",
     "text": [
      "\n",
      "Estimator: Logistic Regression\n",
      "Best params: {'clflr__solver': 'liblinear', 'clflr__penalty': 'l1', 'clflr__C': 0.5}\n",
      "\n",
      "Estimator: Logistic Regression\n",
      "Val set accuracy score: 0.904 \n",
      "f1-score on Val set: 0.944\n",
      "Recall Score on Val set : 0.969\n",
      "Test set accuracy score: 0.894 \n",
      "f1-score on Test set: 0.939\n",
      "Recall Score on Test set : 0.965\n",
      "\n",
      "Estimator: Decision Tree\n",
      "Best params: {'clfdt__min_samples_leaf': 7, 'clfdt__max_depth': 9, 'clfdt__criterion': 'gini'}\n",
      "\n",
      "Estimator: Decision Tree\n",
      "Val set accuracy score: 0.943 \n",
      "f1-score on Val set: 0.966\n",
      "Recall Score on Val set : 0.965\n",
      "Test set accuracy score: 0.936 \n",
      "f1-score on Test set: 0.962\n",
      "Recall Score on Test set : 0.966\n",
      "\n",
      "Estimator: AdaBoost\n",
      "Best params: {'clfada__n_estimators': 290, 'clfada__learning_rate': 1}\n",
      "\n",
      "Estimator: AdaBoost\n",
      "Val set accuracy score: 0.963 \n",
      "f1-score on Val set: 0.978\n",
      "Recall Score on Val set : 0.981\n",
      "Test set accuracy score: 0.956 \n",
      "f1-score on Test set: 0.974\n",
      "Recall Score on Test set : 0.982\n"
     ]
    }
   ],
   "source": [
    "#Models after hypertuning\n",
    "tune_grids=[tune_gs_lr,tune_gs_dt,tune_gs_ada]\n",
    "grid_dict = {0: 'Logistic Regression',\n",
    "             1:'Decision Tree',\n",
    "             2:'AdaBoost'}\n",
    "for idx, gs in enumerate(tune_grids):\n",
    "    gs.fit(X_train, y_train)\n",
    "    print('\\nEstimator: %s' % grid_dict[idx])\n",
    "    print('Best params: %s' % gs.best_params_)\n",
    "    y_pred_val = gs.predict(X_val)\n",
    "    print('\\nEstimator: %s' % grid_dict[idx])\n",
    "    print('Val set accuracy score: %.3f ' \n",
    "              % accuracy_score(y_val, y_pred_val))\n",
    "    print('f1-score on Val set: {0:0.3f}'. format(f1_score(y_val, y_pred_val)))\n",
    "    print('Recall Score on Val set : {0:0.3f}'.format(recall_score(y_val, y_pred_val)))\n",
    "    y_pred_test = gs.predict(X_test)\n",
    "    print('Test set accuracy score: %.3f ' \n",
    "              % accuracy_score(y_test, y_pred_test))\n",
    "    print('f1-score on Test set: {0:0.3f}'. format(f1_score(y_test, y_pred_test)))\n",
    "    print('Recall Score on Test set : {0:0.3f}'.format(recall_score(y_test, y_pred_test)))"
   ]
  },
  {
   "cell_type": "markdown",
   "id": "altered-domain",
   "metadata": {},
   "source": [
    "### Productionize the model"
   ]
  },
  {
   "cell_type": "markdown",
   "id": "transparent-retailer",
   "metadata": {},
   "source": [
    "After tunning the 3 models and comparing their performances with each other, we can conclude that the Ada boost model performed best on test set with an f1-score of 0.974. Therefore, we can pick Adaboost as the final model and put into production using the following pipeline."
   ]
  },
  {
   "cell_type": "code",
   "execution_count": 41,
   "id": "provincial-illustration",
   "metadata": {},
   "outputs": [
    {
     "name": "stdout",
     "output_type": "stream",
     "text": [
      "f1-score on Test set: 0.974\n"
     ]
    }
   ],
   "source": [
    "# Pipeline for Adaboost model with hyper parameter tunning\n",
    "grid_params_ada_tune = [{'clfada__n_estimators': np.arange(10,300,20),\n",
    "                    'clfada__learning_rate': [0.01, 0.05, 0.1, 1] }]\n",
    "\n",
    "tune_gs_ada = RandomizedSearchCV(estimator=pipe_adaboost,\n",
    "                                 param_distributions=grid_params_ada_tune, \n",
    "                                 scoring=scoring_metrics,\n",
    "                                 cv=5,\n",
    "                                 refit=\"ROC_AUC\")\n",
    "tune_gs_ada.fit(X_train, y_train)\n",
    "y_pred_test = gs.predict(X_test)\n",
    "print('f1-score on Test set: {0:0.3f}'. format(f1_score(y_test, y_pred_test)))"
   ]
  },
  {
   "cell_type": "markdown",
   "id": "necessary-performer",
   "metadata": {},
   "source": [
    "### Actionable Insights & Recommendations"
   ]
  },
  {
   "cell_type": "markdown",
   "id": "revolutionary-antenna",
   "metadata": {},
   "source": [
    "Most of the insights are covered throughout the report with the tables and visaulizations. However, from the final classification model, we can classify the potential customers who're likely to churn in the future. This final model is re-usable and can be run multiple times with fresh data. "
   ]
  }
 ],
 "metadata": {
  "kernelspec": {
   "display_name": "Python 3 (ipykernel)",
   "language": "python",
   "name": "python3"
  },
  "language_info": {
   "codemirror_mode": {
    "name": "ipython",
    "version": 3
   },
   "file_extension": ".py",
   "mimetype": "text/x-python",
   "name": "python",
   "nbconvert_exporter": "python",
   "pygments_lexer": "ipython3",
   "version": "3.8.10"
  }
 },
 "nbformat": 4,
 "nbformat_minor": 5
}
