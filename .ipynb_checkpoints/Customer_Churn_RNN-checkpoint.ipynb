{
 "cells": [
  {
   "cell_type": "markdown",
   "id": "twelve-split",
   "metadata": {},
   "source": [
    "## **Introductory Steps**\n"
   ]
  },
  {
   "cell_type": "markdown",
   "id": "gothic-cannon",
   "metadata": {},
   "source": [
    "### Importing Libraries"
   ]
  },
  {
   "cell_type": "code",
   "execution_count": 1,
   "id": "handled-threshold",
   "metadata": {},
   "outputs": [],
   "source": [
    "# Importing all the required libraries\n",
    "import pandas as pd\n",
    "import numpy as np\n",
    "from sklearn.model_selection import train_test_split\n",
    "from sklearn.preprocessing import LabelEncoder, OneHotEncoder\n",
    "from sklearn import model_selection\n",
    "import matplotlib.pyplot as plt\n",
    "import seaborn as sns\n",
    "from sklearn.impute import SimpleImputer\n",
    "import warnings\n",
    "from sklearn.metrics import confusion_matrix\n",
    "from sklearn.pipeline import Pipeline\n",
    "from sklearn.model_selection import GridSearchCV\n",
    "from sklearn.model_selection import RandomizedSearchCV\n",
    "import tensorflow as tf\n",
    "from tensorflow.keras.models import Sequential\n",
    "from tensorflow.keras.layers import Dense\n",
    "from tensorflow.keras.layers import Dense, Input, Dropout,BatchNormalization\n",
    "from tensorflow.keras.wrappers.scikit_learn import KerasClassifier\n",
    "import random\n",
    "from tensorflow.keras import backend\n",
    "from keras import callbacks\n",
    "from keras.callbacks import ModelCheckpoint\n",
    "from sklearn.preprocessing import LabelEncoder\n",
    "from sklearn import preprocessing\n",
    "\n",
    "from sklearn.metrics import roc_curve\n",
    "\n",
    "from matplotlib import pyplot\n",
    "\n",
    "from sklearn import metrics\n",
    "\n",
    "from sklearn.metrics import confusion_matrix\n",
    "\n",
    "random.seed(1)\n",
    "np.random.seed(1) \n",
    "tf.random.set_seed(1)\n",
    "warnings.filterwarnings(\"ignore\")"
   ]
  },
  {
   "cell_type": "markdown",
   "id": "useful-dancing",
   "metadata": {},
   "source": [
    "### Loading the Data"
   ]
  },
  {
   "cell_type": "code",
   "execution_count": 2,
   "id": "charming-offer",
   "metadata": {},
   "outputs": [],
   "source": [
    "# Data loading\n",
    "bank_churn_df = pd.read_csv('Churn.csv')"
   ]
  },
  {
   "cell_type": "code",
   "execution_count": 3,
   "id": "advanced-jenny",
   "metadata": {},
   "outputs": [
    {
     "data": {
      "text/plain": [
       "(10000, 14)"
      ]
     },
     "execution_count": 3,
     "metadata": {},
     "output_type": "execute_result"
    }
   ],
   "source": [
    "# Checking the number of rows and columns in the data\n",
    "bank_churn_df.shape"
   ]
  },
  {
   "cell_type": "markdown",
   "id": "sublime-oxide",
   "metadata": {},
   "source": [
    "* The dataset has 10000 rows and 14 columns"
   ]
  },
  {
   "cell_type": "markdown",
   "id": "weighted-prerequisite",
   "metadata": {},
   "source": [
    "### Data Overview"
   ]
  },
  {
   "cell_type": "code",
   "execution_count": 4,
   "id": "verbal-manual",
   "metadata": {},
   "outputs": [
    {
     "data": {
      "text/html": [
       "<div>\n",
       "<style scoped>\n",
       "    .dataframe tbody tr th:only-of-type {\n",
       "        vertical-align: middle;\n",
       "    }\n",
       "\n",
       "    .dataframe tbody tr th {\n",
       "        vertical-align: top;\n",
       "    }\n",
       "\n",
       "    .dataframe thead th {\n",
       "        text-align: right;\n",
       "    }\n",
       "</style>\n",
       "<table border=\"1\" class=\"dataframe\">\n",
       "  <thead>\n",
       "    <tr style=\"text-align: right;\">\n",
       "      <th></th>\n",
       "      <th>RowNumber</th>\n",
       "      <th>CustomerId</th>\n",
       "      <th>Surname</th>\n",
       "      <th>CreditScore</th>\n",
       "      <th>Geography</th>\n",
       "      <th>Gender</th>\n",
       "      <th>Age</th>\n",
       "      <th>Tenure</th>\n",
       "      <th>Balance</th>\n",
       "      <th>NumOfProducts</th>\n",
       "      <th>HasCrCard</th>\n",
       "      <th>IsActiveMember</th>\n",
       "      <th>EstimatedSalary</th>\n",
       "      <th>Exited</th>\n",
       "    </tr>\n",
       "  </thead>\n",
       "  <tbody>\n",
       "    <tr>\n",
       "      <th>0</th>\n",
       "      <td>1</td>\n",
       "      <td>15634602</td>\n",
       "      <td>Hargrave</td>\n",
       "      <td>619</td>\n",
       "      <td>France</td>\n",
       "      <td>Female</td>\n",
       "      <td>42</td>\n",
       "      <td>2</td>\n",
       "      <td>0.00</td>\n",
       "      <td>1</td>\n",
       "      <td>1</td>\n",
       "      <td>1</td>\n",
       "      <td>101348.88</td>\n",
       "      <td>1</td>\n",
       "    </tr>\n",
       "    <tr>\n",
       "      <th>1</th>\n",
       "      <td>2</td>\n",
       "      <td>15647311</td>\n",
       "      <td>Hill</td>\n",
       "      <td>608</td>\n",
       "      <td>Spain</td>\n",
       "      <td>Female</td>\n",
       "      <td>41</td>\n",
       "      <td>1</td>\n",
       "      <td>83807.86</td>\n",
       "      <td>1</td>\n",
       "      <td>0</td>\n",
       "      <td>1</td>\n",
       "      <td>112542.58</td>\n",
       "      <td>0</td>\n",
       "    </tr>\n",
       "    <tr>\n",
       "      <th>2</th>\n",
       "      <td>3</td>\n",
       "      <td>15619304</td>\n",
       "      <td>Onio</td>\n",
       "      <td>502</td>\n",
       "      <td>France</td>\n",
       "      <td>Female</td>\n",
       "      <td>42</td>\n",
       "      <td>8</td>\n",
       "      <td>159660.80</td>\n",
       "      <td>3</td>\n",
       "      <td>1</td>\n",
       "      <td>0</td>\n",
       "      <td>113931.57</td>\n",
       "      <td>1</td>\n",
       "    </tr>\n",
       "    <tr>\n",
       "      <th>3</th>\n",
       "      <td>4</td>\n",
       "      <td>15701354</td>\n",
       "      <td>Boni</td>\n",
       "      <td>699</td>\n",
       "      <td>France</td>\n",
       "      <td>Female</td>\n",
       "      <td>39</td>\n",
       "      <td>1</td>\n",
       "      <td>0.00</td>\n",
       "      <td>2</td>\n",
       "      <td>0</td>\n",
       "      <td>0</td>\n",
       "      <td>93826.63</td>\n",
       "      <td>0</td>\n",
       "    </tr>\n",
       "    <tr>\n",
       "      <th>4</th>\n",
       "      <td>5</td>\n",
       "      <td>15737888</td>\n",
       "      <td>Mitchell</td>\n",
       "      <td>850</td>\n",
       "      <td>Spain</td>\n",
       "      <td>Female</td>\n",
       "      <td>43</td>\n",
       "      <td>2</td>\n",
       "      <td>125510.82</td>\n",
       "      <td>1</td>\n",
       "      <td>1</td>\n",
       "      <td>1</td>\n",
       "      <td>79084.10</td>\n",
       "      <td>0</td>\n",
       "    </tr>\n",
       "  </tbody>\n",
       "</table>\n",
       "</div>"
      ],
      "text/plain": [
       "   RowNumber  CustomerId   Surname  CreditScore Geography  Gender  Age  \\\n",
       "0          1    15634602  Hargrave          619    France  Female   42   \n",
       "1          2    15647311      Hill          608     Spain  Female   41   \n",
       "2          3    15619304      Onio          502    France  Female   42   \n",
       "3          4    15701354      Boni          699    France  Female   39   \n",
       "4          5    15737888  Mitchell          850     Spain  Female   43   \n",
       "\n",
       "   Tenure    Balance  NumOfProducts  HasCrCard  IsActiveMember  \\\n",
       "0       2       0.00              1          1               1   \n",
       "1       1   83807.86              1          0               1   \n",
       "2       8  159660.80              3          1               0   \n",
       "3       1       0.00              2          0               0   \n",
       "4       2  125510.82              1          1               1   \n",
       "\n",
       "   EstimatedSalary  Exited  \n",
       "0        101348.88       1  \n",
       "1        112542.58       0  \n",
       "2        113931.57       1  \n",
       "3         93826.63       0  \n",
       "4         79084.10       0  "
      ]
     },
     "execution_count": 4,
     "metadata": {},
     "output_type": "execute_result"
    }
   ],
   "source": [
    "# Let's view the first 5 rows of the data\n",
    "bank_churn_df.head()"
   ]
  },
  {
   "cell_type": "code",
   "execution_count": 5,
   "id": "floppy-hello",
   "metadata": {},
   "outputs": [
    {
     "data": {
      "text/html": [
       "<div>\n",
       "<style scoped>\n",
       "    .dataframe tbody tr th:only-of-type {\n",
       "        vertical-align: middle;\n",
       "    }\n",
       "\n",
       "    .dataframe tbody tr th {\n",
       "        vertical-align: top;\n",
       "    }\n",
       "\n",
       "    .dataframe thead th {\n",
       "        text-align: right;\n",
       "    }\n",
       "</style>\n",
       "<table border=\"1\" class=\"dataframe\">\n",
       "  <thead>\n",
       "    <tr style=\"text-align: right;\">\n",
       "      <th></th>\n",
       "      <th>RowNumber</th>\n",
       "      <th>CustomerId</th>\n",
       "      <th>Surname</th>\n",
       "      <th>CreditScore</th>\n",
       "      <th>Geography</th>\n",
       "      <th>Gender</th>\n",
       "      <th>Age</th>\n",
       "      <th>Tenure</th>\n",
       "      <th>Balance</th>\n",
       "      <th>NumOfProducts</th>\n",
       "      <th>HasCrCard</th>\n",
       "      <th>IsActiveMember</th>\n",
       "      <th>EstimatedSalary</th>\n",
       "      <th>Exited</th>\n",
       "    </tr>\n",
       "  </thead>\n",
       "  <tbody>\n",
       "    <tr>\n",
       "      <th>9995</th>\n",
       "      <td>9996</td>\n",
       "      <td>15606229</td>\n",
       "      <td>Obijiaku</td>\n",
       "      <td>771</td>\n",
       "      <td>France</td>\n",
       "      <td>Male</td>\n",
       "      <td>39</td>\n",
       "      <td>5</td>\n",
       "      <td>0.00</td>\n",
       "      <td>2</td>\n",
       "      <td>1</td>\n",
       "      <td>0</td>\n",
       "      <td>96270.64</td>\n",
       "      <td>0</td>\n",
       "    </tr>\n",
       "    <tr>\n",
       "      <th>9996</th>\n",
       "      <td>9997</td>\n",
       "      <td>15569892</td>\n",
       "      <td>Johnstone</td>\n",
       "      <td>516</td>\n",
       "      <td>France</td>\n",
       "      <td>Male</td>\n",
       "      <td>35</td>\n",
       "      <td>10</td>\n",
       "      <td>57369.61</td>\n",
       "      <td>1</td>\n",
       "      <td>1</td>\n",
       "      <td>1</td>\n",
       "      <td>101699.77</td>\n",
       "      <td>0</td>\n",
       "    </tr>\n",
       "    <tr>\n",
       "      <th>9997</th>\n",
       "      <td>9998</td>\n",
       "      <td>15584532</td>\n",
       "      <td>Liu</td>\n",
       "      <td>709</td>\n",
       "      <td>France</td>\n",
       "      <td>Female</td>\n",
       "      <td>36</td>\n",
       "      <td>7</td>\n",
       "      <td>0.00</td>\n",
       "      <td>1</td>\n",
       "      <td>0</td>\n",
       "      <td>1</td>\n",
       "      <td>42085.58</td>\n",
       "      <td>1</td>\n",
       "    </tr>\n",
       "    <tr>\n",
       "      <th>9998</th>\n",
       "      <td>9999</td>\n",
       "      <td>15682355</td>\n",
       "      <td>Sabbatini</td>\n",
       "      <td>772</td>\n",
       "      <td>Germany</td>\n",
       "      <td>Male</td>\n",
       "      <td>42</td>\n",
       "      <td>3</td>\n",
       "      <td>75075.31</td>\n",
       "      <td>2</td>\n",
       "      <td>1</td>\n",
       "      <td>0</td>\n",
       "      <td>92888.52</td>\n",
       "      <td>1</td>\n",
       "    </tr>\n",
       "    <tr>\n",
       "      <th>9999</th>\n",
       "      <td>10000</td>\n",
       "      <td>15628319</td>\n",
       "      <td>Walker</td>\n",
       "      <td>792</td>\n",
       "      <td>France</td>\n",
       "      <td>Female</td>\n",
       "      <td>28</td>\n",
       "      <td>4</td>\n",
       "      <td>130142.79</td>\n",
       "      <td>1</td>\n",
       "      <td>1</td>\n",
       "      <td>0</td>\n",
       "      <td>38190.78</td>\n",
       "      <td>0</td>\n",
       "    </tr>\n",
       "  </tbody>\n",
       "</table>\n",
       "</div>"
      ],
      "text/plain": [
       "      RowNumber  CustomerId    Surname  CreditScore Geography  Gender  Age  \\\n",
       "9995       9996    15606229   Obijiaku          771    France    Male   39   \n",
       "9996       9997    15569892  Johnstone          516    France    Male   35   \n",
       "9997       9998    15584532        Liu          709    France  Female   36   \n",
       "9998       9999    15682355  Sabbatini          772   Germany    Male   42   \n",
       "9999      10000    15628319     Walker          792    France  Female   28   \n",
       "\n",
       "      Tenure    Balance  NumOfProducts  HasCrCard  IsActiveMember  \\\n",
       "9995       5       0.00              2          1               0   \n",
       "9996      10   57369.61              1          1               1   \n",
       "9997       7       0.00              1          0               1   \n",
       "9998       3   75075.31              2          1               0   \n",
       "9999       4  130142.79              1          1               0   \n",
       "\n",
       "      EstimatedSalary  Exited  \n",
       "9995         96270.64       0  \n",
       "9996        101699.77       0  \n",
       "9997         42085.58       1  \n",
       "9998         92888.52       1  \n",
       "9999         38190.78       0  "
      ]
     },
     "execution_count": 5,
     "metadata": {},
     "output_type": "execute_result"
    }
   ],
   "source": [
    "# view the bottom 5 rows of the data\n",
    "bank_churn_df.tail()"
   ]
  },
  {
   "cell_type": "code",
   "execution_count": 6,
   "id": "similar-success",
   "metadata": {},
   "outputs": [
    {
     "name": "stdout",
     "output_type": "stream",
     "text": [
      "<class 'pandas.core.frame.DataFrame'>\n",
      "RangeIndex: 10000 entries, 0 to 9999\n",
      "Data columns (total 14 columns):\n",
      " #   Column           Non-Null Count  Dtype  \n",
      "---  ------           --------------  -----  \n",
      " 0   RowNumber        10000 non-null  int64  \n",
      " 1   CustomerId       10000 non-null  int64  \n",
      " 2   Surname          10000 non-null  object \n",
      " 3   CreditScore      10000 non-null  int64  \n",
      " 4   Geography        10000 non-null  object \n",
      " 5   Gender           10000 non-null  object \n",
      " 6   Age              10000 non-null  int64  \n",
      " 7   Tenure           10000 non-null  int64  \n",
      " 8   Balance          10000 non-null  float64\n",
      " 9   NumOfProducts    10000 non-null  int64  \n",
      " 10  HasCrCard        10000 non-null  int64  \n",
      " 11  IsActiveMember   10000 non-null  int64  \n",
      " 12  EstimatedSalary  10000 non-null  float64\n",
      " 13  Exited           10000 non-null  int64  \n",
      "dtypes: float64(2), int64(9), object(3)\n",
      "memory usage: 1.1+ MB\n"
     ]
    }
   ],
   "source": [
    "# Let's check the datatypes of the columns in the dataset\n",
    "bank_churn_df.info()"
   ]
  },
  {
   "cell_type": "code",
   "execution_count": 7,
   "id": "unnecessary-value",
   "metadata": {},
   "outputs": [
    {
     "data": {
      "text/plain": [
       "0"
      ]
     },
     "execution_count": 7,
     "metadata": {},
     "output_type": "execute_result"
    }
   ],
   "source": [
    "# Let's check for duplicate values in the data\n",
    "bank_churn_df[:-1].duplicated().sum()"
   ]
  },
  {
   "cell_type": "code",
   "execution_count": 8,
   "id": "extended-cemetery",
   "metadata": {},
   "outputs": [
    {
     "data": {
      "text/plain": [
       "RowNumber          0.0\n",
       "CustomerId         0.0\n",
       "Surname            0.0\n",
       "CreditScore        0.0\n",
       "Geography          0.0\n",
       "Gender             0.0\n",
       "Age                0.0\n",
       "Tenure             0.0\n",
       "Balance            0.0\n",
       "NumOfProducts      0.0\n",
       "HasCrCard          0.0\n",
       "IsActiveMember     0.0\n",
       "EstimatedSalary    0.0\n",
       "Exited             0.0\n",
       "dtype: float64"
      ]
     },
     "execution_count": 8,
     "metadata": {},
     "output_type": "execute_result"
    }
   ],
   "source": [
    "# Let's check for missing values in the data\n",
    "round(bank_churn_df.isnull().sum() / bank_churn_df.isnull().count() * 100, 2)"
   ]
  },
  {
   "cell_type": "markdown",
   "id": "incident-astrology",
   "metadata": {},
   "source": [
    "* Dataset doesn't contain any missing value"
   ]
  },
  {
   "cell_type": "code",
   "execution_count": 9,
   "id": "loose-valve",
   "metadata": {},
   "outputs": [
    {
     "data": {
      "text/plain": [
       "0    0.7963\n",
       "1    0.2037\n",
       "Name: Exited, dtype: float64"
      ]
     },
     "execution_count": 9,
     "metadata": {},
     "output_type": "execute_result"
    }
   ],
   "source": [
    "# Checking ratio of response variable\n",
    "bank_churn_df[\"Exited\"].value_counts(1)"
   ]
  },
  {
   "cell_type": "code",
   "execution_count": 10,
   "id": "straight-oxford",
   "metadata": {},
   "outputs": [
    {
     "data": {
      "text/html": [
       "<div>\n",
       "<style scoped>\n",
       "    .dataframe tbody tr th:only-of-type {\n",
       "        vertical-align: middle;\n",
       "    }\n",
       "\n",
       "    .dataframe tbody tr th {\n",
       "        vertical-align: top;\n",
       "    }\n",
       "\n",
       "    .dataframe thead th {\n",
       "        text-align: right;\n",
       "    }\n",
       "</style>\n",
       "<table border=\"1\" class=\"dataframe\">\n",
       "  <thead>\n",
       "    <tr style=\"text-align: right;\">\n",
       "      <th></th>\n",
       "      <th>count</th>\n",
       "      <th>mean</th>\n",
       "      <th>std</th>\n",
       "      <th>min</th>\n",
       "      <th>25%</th>\n",
       "      <th>50%</th>\n",
       "      <th>75%</th>\n",
       "      <th>max</th>\n",
       "    </tr>\n",
       "  </thead>\n",
       "  <tbody>\n",
       "    <tr>\n",
       "      <th>RowNumber</th>\n",
       "      <td>10000.0</td>\n",
       "      <td>5.000500e+03</td>\n",
       "      <td>2886.895680</td>\n",
       "      <td>1.00</td>\n",
       "      <td>2500.75</td>\n",
       "      <td>5.000500e+03</td>\n",
       "      <td>7.500250e+03</td>\n",
       "      <td>10000.00</td>\n",
       "    </tr>\n",
       "    <tr>\n",
       "      <th>CustomerId</th>\n",
       "      <td>10000.0</td>\n",
       "      <td>1.569094e+07</td>\n",
       "      <td>71936.186123</td>\n",
       "      <td>15565701.00</td>\n",
       "      <td>15628528.25</td>\n",
       "      <td>1.569074e+07</td>\n",
       "      <td>1.575323e+07</td>\n",
       "      <td>15815690.00</td>\n",
       "    </tr>\n",
       "    <tr>\n",
       "      <th>CreditScore</th>\n",
       "      <td>10000.0</td>\n",
       "      <td>6.505288e+02</td>\n",
       "      <td>96.653299</td>\n",
       "      <td>350.00</td>\n",
       "      <td>584.00</td>\n",
       "      <td>6.520000e+02</td>\n",
       "      <td>7.180000e+02</td>\n",
       "      <td>850.00</td>\n",
       "    </tr>\n",
       "    <tr>\n",
       "      <th>Age</th>\n",
       "      <td>10000.0</td>\n",
       "      <td>3.892180e+01</td>\n",
       "      <td>10.487806</td>\n",
       "      <td>18.00</td>\n",
       "      <td>32.00</td>\n",
       "      <td>3.700000e+01</td>\n",
       "      <td>4.400000e+01</td>\n",
       "      <td>92.00</td>\n",
       "    </tr>\n",
       "    <tr>\n",
       "      <th>Tenure</th>\n",
       "      <td>10000.0</td>\n",
       "      <td>5.012800e+00</td>\n",
       "      <td>2.892174</td>\n",
       "      <td>0.00</td>\n",
       "      <td>3.00</td>\n",
       "      <td>5.000000e+00</td>\n",
       "      <td>7.000000e+00</td>\n",
       "      <td>10.00</td>\n",
       "    </tr>\n",
       "    <tr>\n",
       "      <th>Balance</th>\n",
       "      <td>10000.0</td>\n",
       "      <td>7.648589e+04</td>\n",
       "      <td>62397.405202</td>\n",
       "      <td>0.00</td>\n",
       "      <td>0.00</td>\n",
       "      <td>9.719854e+04</td>\n",
       "      <td>1.276442e+05</td>\n",
       "      <td>250898.09</td>\n",
       "    </tr>\n",
       "    <tr>\n",
       "      <th>NumOfProducts</th>\n",
       "      <td>10000.0</td>\n",
       "      <td>1.530200e+00</td>\n",
       "      <td>0.581654</td>\n",
       "      <td>1.00</td>\n",
       "      <td>1.00</td>\n",
       "      <td>1.000000e+00</td>\n",
       "      <td>2.000000e+00</td>\n",
       "      <td>4.00</td>\n",
       "    </tr>\n",
       "    <tr>\n",
       "      <th>HasCrCard</th>\n",
       "      <td>10000.0</td>\n",
       "      <td>7.055000e-01</td>\n",
       "      <td>0.455840</td>\n",
       "      <td>0.00</td>\n",
       "      <td>0.00</td>\n",
       "      <td>1.000000e+00</td>\n",
       "      <td>1.000000e+00</td>\n",
       "      <td>1.00</td>\n",
       "    </tr>\n",
       "    <tr>\n",
       "      <th>IsActiveMember</th>\n",
       "      <td>10000.0</td>\n",
       "      <td>5.151000e-01</td>\n",
       "      <td>0.499797</td>\n",
       "      <td>0.00</td>\n",
       "      <td>0.00</td>\n",
       "      <td>1.000000e+00</td>\n",
       "      <td>1.000000e+00</td>\n",
       "      <td>1.00</td>\n",
       "    </tr>\n",
       "    <tr>\n",
       "      <th>EstimatedSalary</th>\n",
       "      <td>10000.0</td>\n",
       "      <td>1.000902e+05</td>\n",
       "      <td>57510.492818</td>\n",
       "      <td>11.58</td>\n",
       "      <td>51002.11</td>\n",
       "      <td>1.001939e+05</td>\n",
       "      <td>1.493882e+05</td>\n",
       "      <td>199992.48</td>\n",
       "    </tr>\n",
       "    <tr>\n",
       "      <th>Exited</th>\n",
       "      <td>10000.0</td>\n",
       "      <td>2.037000e-01</td>\n",
       "      <td>0.402769</td>\n",
       "      <td>0.00</td>\n",
       "      <td>0.00</td>\n",
       "      <td>0.000000e+00</td>\n",
       "      <td>0.000000e+00</td>\n",
       "      <td>1.00</td>\n",
       "    </tr>\n",
       "  </tbody>\n",
       "</table>\n",
       "</div>"
      ],
      "text/plain": [
       "                   count          mean           std          min  \\\n",
       "RowNumber        10000.0  5.000500e+03   2886.895680         1.00   \n",
       "CustomerId       10000.0  1.569094e+07  71936.186123  15565701.00   \n",
       "CreditScore      10000.0  6.505288e+02     96.653299       350.00   \n",
       "Age              10000.0  3.892180e+01     10.487806        18.00   \n",
       "Tenure           10000.0  5.012800e+00      2.892174         0.00   \n",
       "Balance          10000.0  7.648589e+04  62397.405202         0.00   \n",
       "NumOfProducts    10000.0  1.530200e+00      0.581654         1.00   \n",
       "HasCrCard        10000.0  7.055000e-01      0.455840         0.00   \n",
       "IsActiveMember   10000.0  5.151000e-01      0.499797         0.00   \n",
       "EstimatedSalary  10000.0  1.000902e+05  57510.492818        11.58   \n",
       "Exited           10000.0  2.037000e-01      0.402769         0.00   \n",
       "\n",
       "                         25%           50%           75%          max  \n",
       "RowNumber            2500.75  5.000500e+03  7.500250e+03     10000.00  \n",
       "CustomerId       15628528.25  1.569074e+07  1.575323e+07  15815690.00  \n",
       "CreditScore           584.00  6.520000e+02  7.180000e+02       850.00  \n",
       "Age                    32.00  3.700000e+01  4.400000e+01        92.00  \n",
       "Tenure                  3.00  5.000000e+00  7.000000e+00        10.00  \n",
       "Balance                 0.00  9.719854e+04  1.276442e+05    250898.09  \n",
       "NumOfProducts           1.00  1.000000e+00  2.000000e+00         4.00  \n",
       "HasCrCard               0.00  1.000000e+00  1.000000e+00         1.00  \n",
       "IsActiveMember          0.00  1.000000e+00  1.000000e+00         1.00  \n",
       "EstimatedSalary     51002.11  1.001939e+05  1.493882e+05    199992.48  \n",
       "Exited                  0.00  0.000000e+00  0.000000e+00         1.00  "
      ]
     },
     "execution_count": 10,
     "metadata": {},
     "output_type": "execute_result"
    }
   ],
   "source": [
    "# Let's view the statistical summary of the numerical columns in the data\n",
    "bank_churn_df.describe().T"
   ]
  },
  {
   "cell_type": "markdown",
   "id": "dutch-seller",
   "metadata": {},
   "source": [
    "Name, Geography and Gender are Categorical features in the dataset and rest are numerical. We will check their descriptive statistics.\n",
    "\n",
    "* 650 is the median credit score of customers while 75% of the people have less than 718 credit score.\n",
    "\n",
    "* 75% of the population is below the age of 44 years old.\n",
    "\n",
    "* The mean bank balanace of customers is 76k with a high standard deviation of 62k.\n"
   ]
  },
  {
   "cell_type": "code",
   "execution_count": 11,
   "id": "published-teacher",
   "metadata": {},
   "outputs": [
    {
     "data": {
      "text/plain": [
       "RowNumber          10000\n",
       "CustomerId         10000\n",
       "Surname             2932\n",
       "CreditScore          460\n",
       "Geography              3\n",
       "Gender                 2\n",
       "Age                   70\n",
       "Tenure                11\n",
       "Balance             6382\n",
       "NumOfProducts          4\n",
       "HasCrCard              2\n",
       "IsActiveMember         2\n",
       "EstimatedSalary     9999\n",
       "Exited                 2\n",
       "dtype: int64"
      ]
     },
     "execution_count": 11,
     "metadata": {},
     "output_type": "execute_result"
    }
   ],
   "source": [
    "# Let's check the number of unique values in each column\n",
    "bank_churn_df.nunique()"
   ]
  },
  {
   "cell_type": "code",
   "execution_count": 12,
   "id": "nearby-seafood",
   "metadata": {},
   "outputs": [
    {
     "name": "stdout",
     "output_type": "stream",
     "text": [
      "Unique values in Surname are :\n",
      "Smith       32\n",
      "Scott       29\n",
      "Martin      29\n",
      "Walker      28\n",
      "Brown       26\n",
      "            ..\n",
      "Dufresne     1\n",
      "Jowett       1\n",
      "Pendred      1\n",
      "Postle       1\n",
      "Davy         1\n",
      "Name: Surname, Length: 2932, dtype: int64\n",
      "**************************************************\n",
      "Unique values in Geography are :\n",
      "France     5014\n",
      "Germany    2509\n",
      "Spain      2477\n",
      "Name: Geography, dtype: int64\n",
      "**************************************************\n",
      "Unique values in Gender are :\n",
      "Male      5457\n",
      "Female    4543\n",
      "Name: Gender, dtype: int64\n",
      "**************************************************\n",
      "Unique values in Geography are :\n",
      "France     5014\n",
      "Germany    2509\n",
      "Spain      2477\n",
      "Name: Geography, dtype: int64\n",
      "**************************************************\n",
      "Unique values in Gender are :\n",
      "Male      5457\n",
      "Female    4543\n",
      "Name: Gender, dtype: int64\n",
      "**************************************************\n",
      "Unique values in Tenure are :\n",
      "2     1048\n",
      "1     1035\n",
      "7     1028\n",
      "8     1025\n",
      "5     1012\n",
      "3     1009\n",
      "4      989\n",
      "9      984\n",
      "6      967\n",
      "10     490\n",
      "0      413\n",
      "Name: Tenure, dtype: int64\n",
      "**************************************************\n",
      "Unique values in NumOfProducts are :\n",
      "1    5084\n",
      "2    4590\n",
      "3     266\n",
      "4      60\n",
      "Name: NumOfProducts, dtype: int64\n",
      "**************************************************\n",
      "Unique values in HasCrCard are :\n",
      "1    7055\n",
      "0    2945\n",
      "Name: HasCrCard, dtype: int64\n",
      "**************************************************\n",
      "Unique values in IsActiveMember are :\n",
      "1    5151\n",
      "0    4849\n",
      "Name: IsActiveMember, dtype: int64\n",
      "**************************************************\n"
     ]
    }
   ],
   "source": [
    "for i in bank_churn_df.describe(include=[\"object\"]).columns:\n",
    "    print(\"Unique values in\", i, \"are :\")\n",
    "    print(bank_churn_df[i].value_counts())\n",
    "    print(\"*\" * 50)\n",
    "\n",
    "for i in bank_churn_df[['Geography', 'Gender', 'Tenure', 'NumOfProducts', 'HasCrCard', 'IsActiveMember']]:\n",
    "    print(\"Unique values in\", i, \"are :\")\n",
    "    print(bank_churn_df[i].value_counts())\n",
    "    print(\"*\" * 50)"
   ]
  },
  {
   "cell_type": "markdown",
   "id": "painful-underwear",
   "metadata": {},
   "source": [
    "* There are 2932 unique customer's last name present in the dataset with Smith, Scott, Martin, Walker being the most frequent ones. \n",
    "\n",
    "* Customers geography is France, Germeny and Spain.\n",
    "\n",
    "* ~55% of the employees in this dataset are males, and rest are females. \n",
    "\n",
    "* Over 70% of the customers have credit card.\n",
    "\n",
    "* Around 50% of the customers are active."
   ]
  },
  {
   "cell_type": "markdown",
   "id": "functional-stocks",
   "metadata": {},
   "source": [
    "### Data Pre-processing"
   ]
  },
  {
   "cell_type": "code",
   "execution_count": 13,
   "id": "arranged-reverse",
   "metadata": {},
   "outputs": [],
   "source": [
    "# columns consists of uniques IDs and name of customers and hence will not add value to the modeling\n",
    "bank_churn_df.drop(columns=['RowNumber', 'CustomerId', 'Surname'], inplace=True)"
   ]
  },
  {
   "cell_type": "markdown",
   "id": "cross-cricket",
   "metadata": {},
   "source": [
    "## **EDA**"
   ]
  },
  {
   "cell_type": "markdown",
   "id": "excessive-parts",
   "metadata": {},
   "source": [
    "### Univariate Analysis"
   ]
  },
  {
   "cell_type": "code",
   "execution_count": 14,
   "id": "substantial-binary",
   "metadata": {},
   "outputs": [
    {
     "data": {
      "image/png": "[encoded data removed]",
      "text/plain": [
       "<Figure size 432x288 with 1 Axes>"
      ]
     },
     "metadata": {
      "needs_background": "light"
     },
     "output_type": "display_data"
    }
   ],
   "source": [
    "ax = sns.histplot(data = bank_churn_df, x = \"CreditScore\",  kde=True, color=\"teal\")\n",
    "ax.set_title('Histogram of credit score of customers')\n",
    "plt.show()"
   ]
  },
  {
   "cell_type": "markdown",
   "id": "strange-hawaiian",
   "metadata": {},
   "source": [
    "* The above plot shows the credit score distribution among customers\n",
    "* Around 300 customers have max credit score"
   ]
  },
  {
   "cell_type": "code",
   "execution_count": 15,
   "id": "quantitative-pressing",
   "metadata": {},
   "outputs": [
    {
     "data": {
      "image/png": "[encoded data removed]",
      "text/plain": [
       "<Figure size 432x288 with 1 Axes>"
      ]
     },
     "metadata": {
      "needs_background": "light"
     },
     "output_type": "display_data"
    }
   ],
   "source": [
    "ax = sns.countplot(data=bank_churn_df, x=\"Geography\")\n",
    "ax.set_title('Bar chart of customes geographic information')\n",
    "plt.show()"
   ]
  },
  {
   "cell_type": "markdown",
   "id": "killing-infection",
   "metadata": {},
   "source": [
    "* The barplot shows the frequency distribution of Geographic location of customers. \n",
    "* Half of the customers in the sample are from France, and the remaing half are from Spain and Germany."
   ]
  },
  {
   "cell_type": "code",
   "execution_count": 16,
   "id": "small-presentation",
   "metadata": {},
   "outputs": [
    {
     "data": {
      "image/png": "[encoded data removed]",
      "text/plain": [
       "<Figure size 432x288 with 1 Axes>"
      ]
     },
     "metadata": {
      "needs_background": "light"
     },
     "output_type": "display_data"
    }
   ],
   "source": [
    "ax = sns.countplot(data=bank_churn_df, x=\"Gender\")\n",
    "ax.set_title('Bar chart of customes gender')\n",
    "plt.show()"
   ]
  },
  {
   "cell_type": "code",
   "execution_count": 17,
   "id": "passing-nelson",
   "metadata": {},
   "outputs": [
    {
     "data": {
      "image/png": "[encoded data removed]",
      "text/plain": [
       "<Figure size 432x288 with 1 Axes>"
      ]
     },
     "metadata": {
      "needs_background": "light"
     },
     "output_type": "display_data"
    }
   ],
   "source": [
    "ax = sns.histplot(data = bank_churn_df, x = \"Age\",  kde=True, color=\"teal\")\n",
    "ax.set_title('Histogram of customers Age')\n",
    "plt.show()"
   ]
  },
  {
   "cell_type": "markdown",
   "id": "blocked-conservative",
   "metadata": {},
   "source": [
    "* The histogram of customers age is right skewed with a long tail. It signifies that there are more younger customers in the sample."
   ]
  },
  {
   "cell_type": "code",
   "execution_count": 18,
   "id": "unlimited-uruguay",
   "metadata": {},
   "outputs": [
    {
     "data": {
      "image/png": "[encoded data removed]",
      "text/plain": [
       "<Figure size 432x288 with 1 Axes>"
      ]
     },
     "metadata": {
      "needs_background": "light"
     },
     "output_type": "display_data"
    }
   ],
   "source": [
    "ax = sns.countplot(data=bank_churn_df, x=\"Tenure\")\n",
    "ax.set_title('Bar chart of customes Tenure in years')\n",
    "plt.show()"
   ]
  },
  {
   "cell_type": "code",
   "execution_count": 19,
   "id": "early-period",
   "metadata": {},
   "outputs": [
    {
     "data": {
      "image/png": "[encoded data removed]",
      "text/plain": [
       "<Figure size 432x288 with 1 Axes>"
      ]
     },
     "metadata": {
      "needs_background": "light"
     },
     "output_type": "display_data"
    }
   ],
   "source": [
    "ax = sns.histplot(data = bank_churn_df, x = \"Balance\",  kde=True, color=\"teal\")\n",
    "ax.set_title('Histogram of customers bank balance')\n",
    "plt.show()"
   ]
  },
  {
   "cell_type": "markdown",
   "id": "suffering-prayer",
   "metadata": {},
   "source": [
    "* The average balance gives a normal distribution curve, while 3500(35%) of the customers have zero bank balance in their account."
   ]
  },
  {
   "cell_type": "code",
   "execution_count": 20,
   "id": "equal-jesus",
   "metadata": {},
   "outputs": [
    {
     "data": {
      "image/png": "[encoded data removed]",
      "text/plain": [
       "<Figure size 432x288 with 1 Axes>"
      ]
     },
     "metadata": {
      "needs_background": "light"
     },
     "output_type": "display_data"
    }
   ],
   "source": [
    "ax = sns.countplot(data=bank_churn_df, x=\"NumOfProducts\")\n",
    "ax.set_title('Bar chart of number of products that a customer has purchased through the bank')\n",
    "plt.show()"
   ]
  },
  {
   "cell_type": "code",
   "execution_count": 21,
   "id": "alpine-listening",
   "metadata": {},
   "outputs": [
    {
     "data": {
      "image/png": "[encoded data removed]",
      "text/plain": [
       "<Figure size 432x288 with 1 Axes>"
      ]
     },
     "metadata": {
      "needs_background": "light"
     },
     "output_type": "display_data"
    }
   ],
   "source": [
    "ax = sns.countplot(data=bank_churn_df, x=\"HasCrCard\")\n",
    "ax.set_title('Bar chart of Customers credit card information')\n",
    "ax.set_xlabel('Credit Card info')\n",
    "plt.show()"
   ]
  },
  {
   "cell_type": "markdown",
   "id": "yellow-ladder",
   "metadata": {},
   "source": [
    "* Around 70% of the customers have credit card"
   ]
  },
  {
   "cell_type": "code",
   "execution_count": 22,
   "id": "accurate-information",
   "metadata": {},
   "outputs": [
    {
     "data": {
      "image/png": "[encoded data removed]",
      "text/plain": [
       "<Figure size 432x288 with 1 Axes>"
      ]
     },
     "metadata": {
      "needs_background": "light"
     },
     "output_type": "display_data"
    }
   ],
   "source": [
    "ax = sns.countplot(data=bank_churn_df, x=\"IsActiveMember\")\n",
    "ax.set_title('Bar chart of customers activity status')\n",
    "ax.set_xlabel('Active Status')\n",
    "plt.show()"
   ]
  },
  {
   "cell_type": "code",
   "execution_count": 23,
   "id": "collectible-schema",
   "metadata": {},
   "outputs": [
    {
     "data": {
      "image/png": "[encoded data removed]",
      "text/plain": [
       "<Figure size 432x288 with 1 Axes>"
      ]
     },
     "metadata": {
      "needs_background": "light"
     },
     "output_type": "display_data"
    }
   ],
   "source": [
    "ax = sns.histplot(data = bank_churn_df, x = \"EstimatedSalary\",  kde=True, color=\"teal\")\n",
    "ax.set_title('Histogram of customers bank balance')\n",
    "plt.show()"
   ]
  },
  {
   "cell_type": "code",
   "execution_count": 24,
   "id": "suspended-spokesman",
   "metadata": {},
   "outputs": [
    {
     "data": {
      "image/png": "[encoded data removed]",
      "text/plain": [
       "<Figure size 432x288 with 1 Axes>"
      ]
     },
     "metadata": {
      "needs_background": "light"
     },
     "output_type": "display_data"
    }
   ],
   "source": [
    "ax = sns.countplot(data=bank_churn_df, x=\"Exited\")\n",
    "ax.set_title('Bar chart of customer left the bank within six months or not')\n",
    "ax.set_xlabel('Churn Status')\n",
    "plt.show()"
   ]
  },
  {
   "cell_type": "markdown",
   "id": "frank-equipment",
   "metadata": {},
   "source": [
    "* The sample dataset contains 20% churn (exit within 6 month) customers information"
   ]
  },
  {
   "cell_type": "markdown",
   "id": "efficient-grenada",
   "metadata": {},
   "source": [
    "### Bivariate Analysis"
   ]
  },
  {
   "cell_type": "code",
   "execution_count": 25,
   "id": "forced-forge",
   "metadata": {},
   "outputs": [
    {
     "data": {
      "image/png": "[encoded data removed]",
      "text/plain": [
       "<Figure size 432x288 with 1 Axes>"
      ]
     },
     "metadata": {
      "needs_background": "light"
     },
     "output_type": "display_data"
    }
   ],
   "source": [
    "# Visualization of credit score of customers with Gender\n",
    "ax = sns.histplot(x = 'CreditScore', hue='Gender', data=bank_churn_df, multiple=\"stack\")\n",
    "ax.set_title('Stacked histogram of credit score of customers with Gender')\n",
    "plt.show()"
   ]
  },
  {
   "cell_type": "markdown",
   "id": "chicken-climb",
   "metadata": {},
   "source": [
    "* Credit scores are distributed normally among males and females."
   ]
  },
  {
   "cell_type": "code",
   "execution_count": 26,
   "id": "acknowledged-sucking",
   "metadata": {},
   "outputs": [
    {
     "data": {
      "image/png": "[encoded data removed]",
      "text/plain": [
       "<Figure size 432x288 with 1 Axes>"
      ]
     },
     "metadata": {
      "needs_background": "light"
     },
     "output_type": "display_data"
    }
   ],
   "source": [
    "# Visualization of salary of customers with churn status\n",
    "ax = sns.histplot(x = 'EstimatedSalary', hue='Exited', data=bank_churn_df, multiple=\"stack\")\n",
    "ax.set_title('Stacked histogram of salary of customers with churn status')\n",
    "plt.show()"
   ]
  },
  {
   "cell_type": "markdown",
   "id": "comfortable-sessions",
   "metadata": {},
   "source": [
    "* Extimated salary of customers shows uniform distribution among all customers, and also within churn status."
   ]
  },
  {
   "cell_type": "code",
   "execution_count": 27,
   "id": "emerging-confidentiality",
   "metadata": {},
   "outputs": [
    {
     "data": {
      "image/png": "[encoded data removed]",
      "text/plain": [
       "<Figure size 432x288 with 1 Axes>"
      ]
     },
     "metadata": {
      "needs_background": "light"
     },
     "output_type": "display_data"
    }
   ],
   "source": [
    "# Plotting scatterplot\n",
    "ax = sns.scatterplot(data=bank_churn_df, x=\"CreditScore\", y=\"Balance\", hue=\"Exited\")\n",
    "ax.set_title('Scatterplot of customers credit score and balance with churn status')\n",
    "plt.show()"
   ]
  },
  {
   "cell_type": "markdown",
   "id": "wicked-palestine",
   "metadata": {},
   "source": [
    "### Encoding Categorical data"
   ]
  },
  {
   "cell_type": "code",
   "execution_count": 28,
   "id": "circular-arrival",
   "metadata": {},
   "outputs": [],
   "source": [
    "## Separating Independent and Dependent Columns\n",
    "X = bank_churn_df.drop(['Exited'],axis=1)\n",
    "Y = bank_churn_df[['Exited']]"
   ]
  },
  {
   "cell_type": "code",
   "execution_count": 29,
   "id": "distinguished-collection",
   "metadata": {},
   "outputs": [],
   "source": [
    "# Splitting the dataset into the Training and Testing set.\n",
    "X_train, X_test, y_train, y_test = train_test_split(X,Y, test_size = 0.2, random_state = 42,stratify = Y)"
   ]
  },
  {
   "cell_type": "code",
   "execution_count": 30,
   "id": "neutral-agenda",
   "metadata": {},
   "outputs": [],
   "source": [
    "# Lable encoding of the data\n",
    "labelencoder_Geo = LabelEncoder()\n",
    "X_train['Geography']= labelencoder_Geo.fit_transform(X_train['Geography'])\n",
    "X_test['Geography']= labelencoder_Geo.transform(X_test['Geography'])\n",
    "\n",
    "labelencoder_Gender = LabelEncoder()\n",
    "X_train['Gender']= labelencoder_Gender.fit_transform(X_train['Gender'])\n",
    "X_test['Gender']= labelencoder_Gender.transform(X_test['Gender'])"
   ]
  },
  {
   "cell_type": "code",
   "execution_count": 31,
   "id": "front-wings",
   "metadata": {},
   "outputs": [
    {
     "data": {
      "text/html": [
       "<div>\n",
       "<style scoped>\n",
       "    .dataframe tbody tr th:only-of-type {\n",
       "        vertical-align: middle;\n",
       "    }\n",
       "\n",
       "    .dataframe tbody tr th {\n",
       "        vertical-align: top;\n",
       "    }\n",
       "\n",
       "    .dataframe thead th {\n",
       "        text-align: right;\n",
       "    }\n",
       "</style>\n",
       "<table border=\"1\" class=\"dataframe\">\n",
       "  <thead>\n",
       "    <tr style=\"text-align: right;\">\n",
       "      <th></th>\n",
       "      <th>CreditScore</th>\n",
       "      <th>Geography</th>\n",
       "      <th>Gender</th>\n",
       "      <th>Age</th>\n",
       "      <th>Tenure</th>\n",
       "      <th>Balance</th>\n",
       "      <th>NumOfProducts</th>\n",
       "      <th>HasCrCard</th>\n",
       "      <th>IsActiveMember</th>\n",
       "      <th>EstimatedSalary</th>\n",
       "    </tr>\n",
       "  </thead>\n",
       "  <tbody>\n",
       "    <tr>\n",
       "      <th>2151</th>\n",
       "      <td>753</td>\n",
       "      <td>0</td>\n",
       "      <td>1</td>\n",
       "      <td>57</td>\n",
       "      <td>7</td>\n",
       "      <td>0.00</td>\n",
       "      <td>1</td>\n",
       "      <td>1</td>\n",
       "      <td>0</td>\n",
       "      <td>159475.08</td>\n",
       "    </tr>\n",
       "    <tr>\n",
       "      <th>8392</th>\n",
       "      <td>739</td>\n",
       "      <td>1</td>\n",
       "      <td>1</td>\n",
       "      <td>32</td>\n",
       "      <td>3</td>\n",
       "      <td>102128.27</td>\n",
       "      <td>1</td>\n",
       "      <td>1</td>\n",
       "      <td>0</td>\n",
       "      <td>63981.37</td>\n",
       "    </tr>\n",
       "    <tr>\n",
       "      <th>5006</th>\n",
       "      <td>755</td>\n",
       "      <td>1</td>\n",
       "      <td>0</td>\n",
       "      <td>37</td>\n",
       "      <td>0</td>\n",
       "      <td>113865.23</td>\n",
       "      <td>2</td>\n",
       "      <td>1</td>\n",
       "      <td>1</td>\n",
       "      <td>117396.25</td>\n",
       "    </tr>\n",
       "    <tr>\n",
       "      <th>4117</th>\n",
       "      <td>561</td>\n",
       "      <td>0</td>\n",
       "      <td>1</td>\n",
       "      <td>37</td>\n",
       "      <td>5</td>\n",
       "      <td>0.00</td>\n",
       "      <td>2</td>\n",
       "      <td>1</td>\n",
       "      <td>0</td>\n",
       "      <td>83093.25</td>\n",
       "    </tr>\n",
       "    <tr>\n",
       "      <th>7182</th>\n",
       "      <td>692</td>\n",
       "      <td>1</td>\n",
       "      <td>1</td>\n",
       "      <td>49</td>\n",
       "      <td>6</td>\n",
       "      <td>110540.43</td>\n",
       "      <td>2</td>\n",
       "      <td>0</td>\n",
       "      <td>1</td>\n",
       "      <td>107472.99</td>\n",
       "    </tr>\n",
       "  </tbody>\n",
       "</table>\n",
       "</div>"
      ],
      "text/plain": [
       "      CreditScore  Geography  Gender  Age  Tenure    Balance  NumOfProducts  \\\n",
       "2151          753          0       1   57       7       0.00              1   \n",
       "8392          739          1       1   32       3  102128.27              1   \n",
       "5006          755          1       0   37       0  113865.23              2   \n",
       "4117          561          0       1   37       5       0.00              2   \n",
       "7182          692          1       1   49       6  110540.43              2   \n",
       "\n",
       "      HasCrCard  IsActiveMember  EstimatedSalary  \n",
       "2151          1               0        159475.08  \n",
       "8392          1               0         63981.37  \n",
       "5006          1               1        117396.25  \n",
       "4117          1               0         83093.25  \n",
       "7182          0               1        107472.99  "
      ]
     },
     "execution_count": 31,
     "metadata": {},
     "output_type": "execute_result"
    }
   ],
   "source": [
    "# Printing top 5 rows of the sample dataset\n",
    "X_train.head()"
   ]
  },
  {
   "cell_type": "code",
   "execution_count": 32,
   "id": "dietary-walker",
   "metadata": {},
   "outputs": [
    {
     "data": {
      "text/html": [
       "<div>\n",
       "<style scoped>\n",
       "    .dataframe tbody tr th:only-of-type {\n",
       "        vertical-align: middle;\n",
       "    }\n",
       "\n",
       "    .dataframe tbody tr th {\n",
       "        vertical-align: top;\n",
       "    }\n",
       "\n",
       "    .dataframe thead th {\n",
       "        text-align: right;\n",
       "    }\n",
       "</style>\n",
       "<table border=\"1\" class=\"dataframe\">\n",
       "  <thead>\n",
       "    <tr style=\"text-align: right;\">\n",
       "      <th></th>\n",
       "      <th>Exited</th>\n",
       "    </tr>\n",
       "  </thead>\n",
       "  <tbody>\n",
       "    <tr>\n",
       "      <th>2151</th>\n",
       "      <td>1</td>\n",
       "    </tr>\n",
       "    <tr>\n",
       "      <th>8392</th>\n",
       "      <td>1</td>\n",
       "    </tr>\n",
       "    <tr>\n",
       "      <th>5006</th>\n",
       "      <td>0</td>\n",
       "    </tr>\n",
       "    <tr>\n",
       "      <th>4117</th>\n",
       "      <td>0</td>\n",
       "    </tr>\n",
       "    <tr>\n",
       "      <th>7182</th>\n",
       "      <td>0</td>\n",
       "    </tr>\n",
       "  </tbody>\n",
       "</table>\n",
       "</div>"
      ],
      "text/plain": [
       "      Exited\n",
       "2151       1\n",
       "8392       1\n",
       "5006       0\n",
       "4117       0\n",
       "7182       0"
      ]
     },
     "execution_count": 32,
     "metadata": {},
     "output_type": "execute_result"
    }
   ],
   "source": [
    "y_train.head()"
   ]
  },
  {
   "cell_type": "code",
   "execution_count": 33,
   "id": "measured-nomination",
   "metadata": {},
   "outputs": [],
   "source": [
    "# Using standard scale to standardize the training data\n",
    "std_scaler = preprocessing.StandardScaler()\n",
    "X_train = std_scaler.fit_transform(X_train)\n",
    "X_test = std_scaler.transform(X_test)"
   ]
  },
  {
   "cell_type": "code",
   "execution_count": 34,
   "id": "trained-valentine",
   "metadata": {},
   "outputs": [
    {
     "data": {
      "text/plain": [
       "array([[ 1.058568  , -0.90593285,  0.90750738,  1.71508648,  0.68472287,\n",
       "        -1.22605881, -0.91025649,  0.64104192, -1.030206  ,  1.04208392],\n",
       "       [ 0.91362605,  0.30016846,  0.90750738, -0.65993547, -0.6962018 ,\n",
       "         0.41328769, -0.91025649,  0.64104192, -1.030206  , -0.62355635],\n",
       "       [ 1.07927399,  0.30016846, -1.10191942, -0.18493108, -1.73189531,\n",
       "         0.60168748,  0.80883036,  0.64104192,  0.97067965,  0.30812779],\n",
       "       [-0.92920731, -0.90593285,  0.90750738, -0.18493108, -0.00573947,\n",
       "        -1.22605881,  0.80883036,  0.64104192, -1.030206  , -0.29019914],\n",
       "       [ 0.42703522,  0.30016846,  0.90750738,  0.95507945,  0.3394917 ,\n",
       "         0.54831832,  0.80883036, -1.55996038,  0.97067965,  0.13504224]])"
      ]
     },
     "execution_count": 34,
     "metadata": {},
     "output_type": "execute_result"
    }
   ],
   "source": [
    "# Printing top 5 rows of the training dataset after transformation\n",
    "X_train[0:5,:]"
   ]
  },
  {
   "cell_type": "code",
   "execution_count": 35,
   "id": "tamil-facility",
   "metadata": {},
   "outputs": [
    {
     "name": "stdout",
     "output_type": "stream",
     "text": [
      "(8000, 10)\n",
      "(2000, 10)\n",
      "(8000, 1)\n",
      "(2000, 1)\n"
     ]
    }
   ],
   "source": [
    "###Checking the shape of train and test sets\n",
    "print(X_train.shape)\n",
    "print(X_test.shape)\n",
    "print(y_train.shape)\n",
    "print(y_test.shape)"
   ]
  },
  {
   "cell_type": "markdown",
   "id": "surprising-picnic",
   "metadata": {},
   "source": [
    "## **Model Building**"
   ]
  },
  {
   "cell_type": "markdown",
   "id": "disabled-adelaide",
   "metadata": {},
   "source": [
    "The model building using neural networks is an iterative process. We will start building our model with a base model. Afterwards, I'll add more layers to the model with minor changes in the parameters until the model becomes robust and free of overfitting/underfitting."
   ]
  },
  {
   "cell_type": "markdown",
   "id": "western-strengthening",
   "metadata": {},
   "source": [
    "### Model 1"
   ]
  },
  {
   "cell_type": "code",
   "execution_count": 36,
   "id": "protected-circulation",
   "metadata": {},
   "outputs": [],
   "source": [
    "backend.clear_session()\n",
    "#Fixing the seed for random number generators so that we can ensure we receive the same output everytime\n",
    "np.random.seed(42)\n",
    "import random\n",
    "random.seed(42)\n",
    "tf.random.set_seed(42)"
   ]
  },
  {
   "cell_type": "code",
   "execution_count": 37,
   "id": "noble-blink",
   "metadata": {},
   "outputs": [],
   "source": [
    "# Initializing the ANN\n",
    "model = Sequential()\n",
    "\n",
    "# Since the input has 10 parameters \n",
    "model.add(Dense(activation = 'relu', input_dim = 10, units=64))\n",
    "\n",
    "#Add 1st hidden layer\n",
    "model.add(Dense(32, activation='relu'))\n",
    "\n",
    "# Adding the output layer\n",
    "# We use the sigmoid because we want probability outcomes\n",
    "model.add(Dense(1, activation = 'sigmoid')) "
   ]
  },
  {
   "cell_type": "code",
   "execution_count": 38,
   "id": "respective-procurement",
   "metadata": {},
   "outputs": [],
   "source": [
    "# Create optimizer with default learning rate and metric as accuracy with loss of cross entropy\n",
    "# Compile the model\n",
    "model.compile(optimizer='SGD', loss='binary_crossentropy', metrics=['accuracy'])"
   ]
  },
  {
   "cell_type": "code",
   "execution_count": 39,
   "id": "relative-greenhouse",
   "metadata": {},
   "outputs": [
    {
     "name": "stdout",
     "output_type": "stream",
     "text": [
      "Model: \"sequential\"\n",
      "_________________________________________________________________\n",
      "Layer (type)                 Output Shape              Param #   \n",
      "=================================================================\n",
      "dense (Dense)                (None, 64)                704       \n",
      "_________________________________________________________________\n",
      "dense_1 (Dense)              (None, 32)                2080      \n",
      "_________________________________________________________________\n",
      "dense_2 (Dense)              (None, 1)                 33        \n",
      "=================================================================\n",
      "Total params: 2,817\n",
      "Trainable params: 2,817\n",
      "Non-trainable params: 0\n",
      "_________________________________________________________________\n"
     ]
    }
   ],
   "source": [
    "model.summary()"
   ]
  },
  {
   "cell_type": "code",
   "execution_count": 40,
   "id": "brave-relation",
   "metadata": {},
   "outputs": [
    {
     "name": "stdout",
     "output_type": "stream",
     "text": [
      "Epoch 1/50\n",
      "200/200 [==============================] - 0s 1ms/step - loss: 0.5202 - accuracy: 0.7805 - val_loss: 0.4773 - val_accuracy: 0.8000\n",
      "Epoch 2/50\n",
      "200/200 [==============================] - 0s 805us/step - loss: 0.4660 - accuracy: 0.7953 - val_loss: 0.4581 - val_accuracy: 0.8000\n",
      "Epoch 3/50\n",
      "200/200 [==============================] - 0s 818us/step - loss: 0.4486 - accuracy: 0.7953 - val_loss: 0.4475 - val_accuracy: 0.8019\n",
      "Epoch 4/50\n",
      "200/200 [==============================] - 0s 983us/step - loss: 0.4379 - accuracy: 0.7994 - val_loss: 0.4400 - val_accuracy: 0.8025\n",
      "Epoch 5/50\n",
      "200/200 [==============================] - 0s 839us/step - loss: 0.4300 - accuracy: 0.8045 - val_loss: 0.4340 - val_accuracy: 0.8062\n",
      "Epoch 6/50\n",
      "200/200 [==============================] - 0s 816us/step - loss: 0.4237 - accuracy: 0.8116 - val_loss: 0.4284 - val_accuracy: 0.8181\n",
      "Epoch 7/50\n",
      "200/200 [==============================] - 0s 1ms/step - loss: 0.4180 - accuracy: 0.8191 - val_loss: 0.4230 - val_accuracy: 0.8256\n",
      "Epoch 8/50\n",
      "200/200 [==============================] - 0s 856us/step - loss: 0.4128 - accuracy: 0.8275 - val_loss: 0.4173 - val_accuracy: 0.8313\n",
      "Epoch 9/50\n",
      "200/200 [==============================] - 0s 819us/step - loss: 0.4077 - accuracy: 0.8297 - val_loss: 0.4117 - val_accuracy: 0.8413\n",
      "Epoch 10/50\n",
      "200/200 [==============================] - 0s 841us/step - loss: 0.4030 - accuracy: 0.8339 - val_loss: 0.4057 - val_accuracy: 0.8425\n",
      "Epoch 11/50\n",
      "200/200 [==============================] - 0s 791us/step - loss: 0.3983 - accuracy: 0.8356 - val_loss: 0.3999 - val_accuracy: 0.8444\n",
      "Epoch 12/50\n",
      "200/200 [==============================] - 0s 806us/step - loss: 0.3937 - accuracy: 0.8388 - val_loss: 0.3943 - val_accuracy: 0.8469\n",
      "Epoch 13/50\n",
      "200/200 [==============================] - 0s 848us/step - loss: 0.3892 - accuracy: 0.8419 - val_loss: 0.3887 - val_accuracy: 0.8506\n",
      "Epoch 14/50\n",
      "200/200 [==============================] - 0s 846us/step - loss: 0.3850 - accuracy: 0.8438 - val_loss: 0.3835 - val_accuracy: 0.8519\n",
      "Epoch 15/50\n",
      "200/200 [==============================] - 0s 874us/step - loss: 0.3810 - accuracy: 0.8433 - val_loss: 0.3787 - val_accuracy: 0.8556\n",
      "Epoch 16/50\n",
      "200/200 [==============================] - 0s 886us/step - loss: 0.3772 - accuracy: 0.8442 - val_loss: 0.3737 - val_accuracy: 0.8556\n",
      "Epoch 17/50\n",
      "200/200 [==============================] - 0s 909us/step - loss: 0.3739 - accuracy: 0.8478 - val_loss: 0.3691 - val_accuracy: 0.8562\n",
      "Epoch 18/50\n",
      "200/200 [==============================] - 0s 866us/step - loss: 0.3707 - accuracy: 0.8498 - val_loss: 0.3650 - val_accuracy: 0.8569\n",
      "Epoch 19/50\n",
      "200/200 [==============================] - 0s 810us/step - loss: 0.3679 - accuracy: 0.8514 - val_loss: 0.3614 - val_accuracy: 0.8587\n",
      "Epoch 20/50\n",
      "200/200 [==============================] - 0s 839us/step - loss: 0.3653 - accuracy: 0.8494 - val_loss: 0.3581 - val_accuracy: 0.8612\n",
      "Epoch 21/50\n",
      "200/200 [==============================] - 0s 954us/step - loss: 0.3628 - accuracy: 0.8511 - val_loss: 0.3559 - val_accuracy: 0.8644\n",
      "Epoch 22/50\n",
      "200/200 [==============================] - 0s 933us/step - loss: 0.3610 - accuracy: 0.8508 - val_loss: 0.3529 - val_accuracy: 0.8631\n",
      "Epoch 23/50\n",
      "200/200 [==============================] - 0s 903us/step - loss: 0.3591 - accuracy: 0.8517 - val_loss: 0.3508 - val_accuracy: 0.8650\n",
      "Epoch 24/50\n",
      "200/200 [==============================] - 0s 947us/step - loss: 0.3576 - accuracy: 0.8544 - val_loss: 0.3492 - val_accuracy: 0.8625\n",
      "Epoch 25/50\n",
      "200/200 [==============================] - 0s 1ms/step - loss: 0.3562 - accuracy: 0.8528 - val_loss: 0.3472 - val_accuracy: 0.8637\n",
      "Epoch 26/50\n",
      "200/200 [==============================] - 0s 1ms/step - loss: 0.3548 - accuracy: 0.8545 - val_loss: 0.3457 - val_accuracy: 0.8650\n",
      "Epoch 27/50\n",
      "200/200 [==============================] - 0s 939us/step - loss: 0.3537 - accuracy: 0.8548 - val_loss: 0.3450 - val_accuracy: 0.8650\n",
      "Epoch 28/50\n",
      "200/200 [==============================] - 0s 890us/step - loss: 0.3525 - accuracy: 0.8530 - val_loss: 0.3434 - val_accuracy: 0.8644\n",
      "Epoch 29/50\n",
      "200/200 [==============================] - 0s 863us/step - loss: 0.3517 - accuracy: 0.8550 - val_loss: 0.3423 - val_accuracy: 0.8631\n",
      "Epoch 30/50\n",
      "200/200 [==============================] - 0s 863us/step - loss: 0.3507 - accuracy: 0.8547 - val_loss: 0.3421 - val_accuracy: 0.8650\n",
      "Epoch 31/50\n",
      "200/200 [==============================] - 0s 874us/step - loss: 0.3497 - accuracy: 0.8530 - val_loss: 0.3408 - val_accuracy: 0.8625\n",
      "Epoch 32/50\n",
      "200/200 [==============================] - 0s 981us/step - loss: 0.3486 - accuracy: 0.8558 - val_loss: 0.3405 - val_accuracy: 0.8625\n",
      "Epoch 33/50\n",
      "200/200 [==============================] - 0s 888us/step - loss: 0.3483 - accuracy: 0.8547 - val_loss: 0.3397 - val_accuracy: 0.8644\n",
      "Epoch 34/50\n",
      "200/200 [==============================] - 0s 916us/step - loss: 0.3472 - accuracy: 0.8541 - val_loss: 0.3396 - val_accuracy: 0.8625\n",
      "Epoch 35/50\n",
      "200/200 [==============================] - 0s 980us/step - loss: 0.3466 - accuracy: 0.8556 - val_loss: 0.3387 - val_accuracy: 0.8644\n",
      "Epoch 36/50\n",
      "200/200 [==============================] - 0s 1ms/step - loss: 0.3459 - accuracy: 0.8553 - val_loss: 0.3382 - val_accuracy: 0.8669\n",
      "Epoch 37/50\n",
      "200/200 [==============================] - 0s 947us/step - loss: 0.3452 - accuracy: 0.8561 - val_loss: 0.3378 - val_accuracy: 0.8650\n",
      "Epoch 38/50\n",
      "200/200 [==============================] - 0s 992us/step - loss: 0.3445 - accuracy: 0.8561 - val_loss: 0.3374 - val_accuracy: 0.8644\n",
      "Epoch 39/50\n",
      "200/200 [==============================] - 0s 934us/step - loss: 0.3442 - accuracy: 0.8559 - val_loss: 0.3371 - val_accuracy: 0.8656\n",
      "Epoch 40/50\n",
      "200/200 [==============================] - 0s 1ms/step - loss: 0.3434 - accuracy: 0.8569 - val_loss: 0.3370 - val_accuracy: 0.8656\n",
      "Epoch 41/50\n",
      "200/200 [==============================] - 0s 916us/step - loss: 0.3430 - accuracy: 0.8559 - val_loss: 0.3363 - val_accuracy: 0.8675\n",
      "Epoch 42/50\n",
      "200/200 [==============================] - 0s 902us/step - loss: 0.3421 - accuracy: 0.8567 - val_loss: 0.3360 - val_accuracy: 0.8656\n",
      "Epoch 43/50\n",
      "200/200 [==============================] - 0s 820us/step - loss: 0.3420 - accuracy: 0.8578 - val_loss: 0.3356 - val_accuracy: 0.8675\n",
      "Epoch 44/50\n",
      "200/200 [==============================] - 0s 795us/step - loss: 0.3413 - accuracy: 0.8569 - val_loss: 0.3356 - val_accuracy: 0.8675\n",
      "Epoch 45/50\n",
      "200/200 [==============================] - 0s 832us/step - loss: 0.3407 - accuracy: 0.8583 - val_loss: 0.3354 - val_accuracy: 0.8662\n",
      "Epoch 46/50\n",
      "200/200 [==============================] - 0s 1ms/step - loss: 0.3403 - accuracy: 0.8567 - val_loss: 0.3354 - val_accuracy: 0.8662\n",
      "Epoch 47/50\n",
      "200/200 [==============================] - 0s 958us/step - loss: 0.3393 - accuracy: 0.8591 - val_loss: 0.3364 - val_accuracy: 0.8662\n",
      "Epoch 48/50\n",
      "200/200 [==============================] - 0s 869us/step - loss: 0.3395 - accuracy: 0.8589 - val_loss: 0.3351 - val_accuracy: 0.8669\n",
      "Epoch 49/50\n",
      "200/200 [==============================] - 0s 812us/step - loss: 0.3386 - accuracy: 0.8584 - val_loss: 0.3348 - val_accuracy: 0.8669\n",
      "Epoch 50/50\n",
      "200/200 [==============================] - 0s 825us/step - loss: 0.3378 - accuracy: 0.8595 - val_loss: 0.3348 - val_accuracy: 0.8656\n"
     ]
    }
   ],
   "source": [
    "# Modelling fitting with 32 batch size for 50 epochs\n",
    "history=model.fit(X_train, y_train,\n",
    "                  validation_split=0.2,\n",
    "                  epochs=50,\n",
    "                  batch_size=32, \n",
    "                  verbose=1)"
   ]
  },
  {
   "cell_type": "code",
   "execution_count": 41,
   "id": "rational-turner",
   "metadata": {},
   "outputs": [
    {
     "name": "stdout",
     "output_type": "stream",
     "text": [
      "63/63 [==============================] - 0s 982us/step - loss: 0.3512 - accuracy: 0.8580\n"
     ]
    },
    {
     "data": {
      "image/png": "[encoded data removed]",
      "text/plain": [
       "<Figure size 432x288 with 1 Axes>"
      ]
     },
     "metadata": {
      "needs_background": "light"
     },
     "output_type": "display_data"
    }
   ],
   "source": [
    "# Capturing learning history per epoch\n",
    "hist  = pd.DataFrame(history.history)\n",
    "hist['epoch'] = history.epoch\n",
    "\n",
    "# Plotting accuracy at different epochs\n",
    "plt.plot(hist['loss'])\n",
    "plt.plot(hist['val_loss'])\n",
    "plt.legend((\"train\" , \"valid\") , loc =0)\n",
    "\n",
    "#Printing results\n",
    "results = model.evaluate(X_test, y_test)"
   ]
  },
  {
   "cell_type": "markdown",
   "id": "widespread-milwaukee",
   "metadata": {},
   "source": [
    "* The model is overfitting with every iteration. We will take care of that in the next iteration."
   ]
  },
  {
   "cell_type": "code",
   "execution_count": 42,
   "id": "dimensional-harassment",
   "metadata": {},
   "outputs": [
    {
     "name": "stdout",
     "output_type": "stream",
     "text": [
      "Best Threshold=0.182024, G-Mean=0.767\n"
     ]
    },
    {
     "data": {
      "image/png": "[encoded data removed]",
      "text/plain": [
       "<Figure size 432x288 with 1 Axes>"
      ]
     },
     "metadata": {
      "needs_background": "light"
     },
     "output_type": "display_data"
    }
   ],
   "source": [
    "\n",
    "# predict probabilities\n",
    "yhat1 = model.predict(X_test)\n",
    "\n",
    "# keep probabilities for the positive outcome only\n",
    "yhat1 = yhat1[:, 0]\n",
    "\n",
    "# calculate roc curves\n",
    "fpr, tpr, thresholds1 = roc_curve(y_test, yhat1)\n",
    "\n",
    "# calculate the g-mean for each threshold\n",
    "gmeans1 = np.sqrt(tpr * (1-fpr))\n",
    "\n",
    "# locate the index of the largest g-mean\n",
    "ix = np.argmax(gmeans1)\n",
    "print('Best Threshold=%f, G-Mean=%.3f' % (thresholds1[ix], gmeans1[ix]))\n",
    "\n",
    "# plot the roc curve for the model\n",
    "pyplot.plot([0,1], [0,1], linestyle='--', label='No Skill')\n",
    "pyplot.plot(fpr, tpr, marker='.')\n",
    "pyplot.scatter(fpr[ix], tpr[ix], marker='o', color='black', label='Best')\n",
    "\n",
    "# axis labels\n",
    "pyplot.xlabel('False Positive Rate')\n",
    "pyplot.ylabel('True Positive Rate')\n",
    "pyplot.legend()\n",
    "\n",
    "# show the plot\n",
    "pyplot.show()"
   ]
  },
  {
   "cell_type": "markdown",
   "id": "fiscal-pierre",
   "metadata": {},
   "source": [
    "The best threshold for the sigmoid function is 0.24 given by AUC_ROC curve with 0.74 Gmean score."
   ]
  },
  {
   "cell_type": "code",
   "execution_count": 43,
   "id": "varied-delay",
   "metadata": {},
   "outputs": [],
   "source": [
    "# Function to make confustion matrix\n",
    "def make_confusion_matrix(cf,\n",
    "                          group_names=None,\n",
    "                          categories='auto',\n",
    "                          count=True,\n",
    "                          percent=True,\n",
    "                          cbar=True,\n",
    "                          xyticks=True,\n",
    "                          xyplotlabels=True,\n",
    "                          sum_stats=True,\n",
    "                          figsize=None,\n",
    "                          cmap='Blues',\n",
    "                          title=None):\n",
    "    '''\n",
    "    This function will make a pretty plot of an sklearn Confusion Matrix cm using a Seaborn heatmap visualization.\n",
    "    Arguments\n",
    "    '''\n",
    "\n",
    "\n",
    "    # CODE TO GENERATE TEXT INSIDE EACH SQUARE\n",
    "    blanks = ['' for i in range(cf.size)]\n",
    "\n",
    "    if group_names and len(group_names)==cf.size:\n",
    "        group_labels = [\"{}\\n\".format(value) for value in group_names]\n",
    "    else:\n",
    "        group_labels = blanks\n",
    "\n",
    "    if count:\n",
    "        group_counts = [\"{0:0.0f}\\n\".format(value) for value in cf.flatten()]\n",
    "    else:\n",
    "        group_counts = blanks\n",
    "\n",
    "    if percent:\n",
    "        group_percentages = [\"{0:.2%}\".format(value) for value in cf.flatten()/np.sum(cf)]\n",
    "    else:\n",
    "        group_percentages = blanks\n",
    "\n",
    "    box_labels = [f\"{v1}{v2}{v3}\".strip() for v1, v2, v3 in zip(group_labels,group_counts,group_percentages)]\n",
    "    box_labels = np.asarray(box_labels).reshape(cf.shape[0],cf.shape[1])\n",
    "\n",
    "\n",
    "    # CODE TO GENERATE SUMMARY STATISTICS & TEXT FOR SUMMARY STATS\n",
    "    if sum_stats:\n",
    "        #Accuracy is sum of diagonal divided by total observations\n",
    "        accuracy  = np.trace(cf) / float(np.sum(cf))\n",
    "\n",
    "\n",
    "\n",
    "    # SET FIGURE PARAMETERS ACCORDING TO OTHER ARGUMENTS\n",
    "    if figsize==None:\n",
    "        #Get default figure size if not set\n",
    "        figsize = plt.rcParams.get('figure.figsize')\n",
    "\n",
    "    if xyticks==False:\n",
    "        #Do not show categories if xyticks is False\n",
    "        categories=False\n",
    "\n",
    "\n",
    "    # MAKE THE HEATMAP VISUALIZATION\n",
    "    plt.figure(figsize=figsize)\n",
    "    sns.heatmap(cf,annot=box_labels,fmt=\"\",cmap=cmap,cbar=cbar,xticklabels=categories,yticklabels=categories)\n",
    "\n",
    "    \n",
    "    if title:\n",
    "        plt.title(title)"
   ]
  },
  {
   "cell_type": "code",
   "execution_count": 44,
   "id": "clear-aurora",
   "metadata": {},
   "outputs": [
    {
     "data": {
      "text/plain": [
       "array([[False],\n",
       "       [False],\n",
       "       [False],\n",
       "       ...,\n",
       "       [ True],\n",
       "       [False],\n",
       "       [False]])"
      ]
     },
     "execution_count": 44,
     "metadata": {},
     "output_type": "execute_result"
    }
   ],
   "source": [
    "#Predicting the results using best as a threshold\n",
    "y_pred_e1=model.predict(X_test)\n",
    "y_pred_e1 = (y_pred_e1 > thresholds1[ix])\n",
    "y_pred_e1"
   ]
  },
  {
   "cell_type": "code",
   "execution_count": 45,
   "id": "baking-anthony",
   "metadata": {},
   "outputs": [
    {
     "data": {
      "image/png": "[encoded data removed]",
      "text/plain": [
       "<Figure size 432x288 with 2 Axes>"
      ]
     },
     "metadata": {
      "needs_background": "light"
     },
     "output_type": "display_data"
    }
   ],
   "source": [
    "#Calculating the confusion matrix \n",
    "cm1=confusion_matrix(y_test, y_pred_e1)\n",
    "labels = ['True Positive','False Negative','False Positive','True Negative']\n",
    "categories = [ 'Not Changing Job','Changing Job']\n",
    "make_confusion_matrix(cm1, \n",
    "                      group_names=labels,\n",
    "                      categories=categories, \n",
    "                      cmap='Blues')"
   ]
  },
  {
   "cell_type": "code",
   "execution_count": 46,
   "id": "included-regular",
   "metadata": {},
   "outputs": [
    {
     "name": "stdout",
     "output_type": "stream",
     "text": [
      "              precision    recall  f1-score   support\n",
      "\n",
      "           0       0.93      0.76      0.84      1593\n",
      "           1       0.45      0.77      0.57       407\n",
      "\n",
      "    accuracy                           0.76      2000\n",
      "   macro avg       0.69      0.77      0.70      2000\n",
      "weighted avg       0.83      0.76      0.78      2000\n",
      "\n"
     ]
    }
   ],
   "source": [
    "#Accuracy as per the classification report \n",
    "cr=metrics.classification_report(y_test,y_pred_e1)\n",
    "print(cr)"
   ]
  },
  {
   "cell_type": "markdown",
   "id": "primary-joint",
   "metadata": {},
   "source": [
    "* The base model gives 76% accuracy on the test data with 84% and 57% f1-score of class 0 and 1 respectively.\n",
    "\n",
    "We can improve this model by avoiding overfitting and adding more dense layer"
   ]
  },
  {
   "cell_type": "markdown",
   "id": "caring-rescue",
   "metadata": {},
   "source": [
    "### Model 2"
   ]
  },
  {
   "cell_type": "markdown",
   "id": "pending-civilian",
   "metadata": {},
   "source": [
    "Building complex model with more dense layer compared to model1."
   ]
  },
  {
   "cell_type": "code",
   "execution_count": 47,
   "id": "after-thought",
   "metadata": {},
   "outputs": [],
   "source": [
    "model2 = Sequential()\n",
    "model2.add(Dense(256,activation='relu',input_dim = X_train.shape[1]))\n",
    "model2.add(Dropout(0.2))\n",
    "model2.add(Dense(128,activation='relu'))\n",
    "model2.add(Dropout(0.2))\n",
    "model2.add(Dense(64,activation='relu'))\n",
    "model2.add(Dropout(0.2))\n",
    "model2.add(Dense(32,activation='relu'))\n",
    "model2.add(Dense(1, activation = 'sigmoid'))"
   ]
  },
  {
   "cell_type": "code",
   "execution_count": 48,
   "id": "threaded-instruction",
   "metadata": {},
   "outputs": [],
   "source": [
    "optimizer = tf.keras.optimizers.SGD(0.005)\n",
    "model2.compile(loss='binary_crossentropy',optimizer=optimizer,metrics=['accuracy'])"
   ]
  },
  {
   "cell_type": "code",
   "execution_count": 49,
   "id": "hungry-wheat",
   "metadata": {},
   "outputs": [
    {
     "name": "stdout",
     "output_type": "stream",
     "text": [
      "Model: \"sequential_1\"\n",
      "_________________________________________________________________\n",
      "Layer (type)                 Output Shape              Param #   \n",
      "=================================================================\n",
      "dense_3 (Dense)              (None, 256)               2816      \n",
      "_________________________________________________________________\n",
      "dropout (Dropout)            (None, 256)               0         \n",
      "_________________________________________________________________\n",
      "dense_4 (Dense)              (None, 128)               32896     \n",
      "_________________________________________________________________\n",
      "dropout_1 (Dropout)          (None, 128)               0         \n",
      "_________________________________________________________________\n",
      "dense_5 (Dense)              (None, 64)                8256      \n",
      "_________________________________________________________________\n",
      "dropout_2 (Dropout)          (None, 64)                0         \n",
      "_________________________________________________________________\n",
      "dense_6 (Dense)              (None, 32)                2080      \n",
      "_________________________________________________________________\n",
      "dense_7 (Dense)              (None, 1)                 33        \n",
      "=================================================================\n",
      "Total params: 46,081\n",
      "Trainable params: 46,081\n",
      "Non-trainable params: 0\n",
      "_________________________________________________________________\n"
     ]
    }
   ],
   "source": [
    "model2.summary()"
   ]
  },
  {
   "cell_type": "code",
   "execution_count": 50,
   "id": "eastern-warner",
   "metadata": {},
   "outputs": [
    {
     "name": "stdout",
     "output_type": "stream",
     "text": [
      "Epoch 1/100\n",
      "200/200 [==============================] - 1s 2ms/step - loss: 0.5928 - accuracy: 0.7659 - val_loss: 0.5270 - val_accuracy: 0.8000\n",
      "Epoch 2/100\n",
      "200/200 [==============================] - 0s 1ms/step - loss: 0.5171 - accuracy: 0.7953 - val_loss: 0.4985 - val_accuracy: 0.8000\n",
      "Epoch 3/100\n",
      "200/200 [==============================] - 0s 1ms/step - loss: 0.5006 - accuracy: 0.7953 - val_loss: 0.4876 - val_accuracy: 0.8000\n",
      "Epoch 4/100\n",
      "200/200 [==============================] - 0s 1ms/step - loss: 0.4941 - accuracy: 0.7953 - val_loss: 0.4786 - val_accuracy: 0.8000\n",
      "Epoch 5/100\n",
      "200/200 [==============================] - 0s 1ms/step - loss: 0.4818 - accuracy: 0.7953 - val_loss: 0.4697 - val_accuracy: 0.8000\n",
      "Epoch 6/100\n",
      "200/200 [==============================] - 0s 1ms/step - loss: 0.4747 - accuracy: 0.7953 - val_loss: 0.4612 - val_accuracy: 0.8000\n",
      "Epoch 7/100\n",
      "200/200 [==============================] - 0s 1ms/step - loss: 0.4645 - accuracy: 0.7955 - val_loss: 0.4526 - val_accuracy: 0.8000\n",
      "Epoch 8/100\n",
      "200/200 [==============================] - 0s 1ms/step - loss: 0.4587 - accuracy: 0.7961 - val_loss: 0.4446 - val_accuracy: 0.8000\n",
      "Epoch 9/100\n",
      "200/200 [==============================] - 0s 1ms/step - loss: 0.4488 - accuracy: 0.7980 - val_loss: 0.4375 - val_accuracy: 0.8012\n",
      "Epoch 10/100\n",
      "200/200 [==============================] - 0s 1ms/step - loss: 0.4411 - accuracy: 0.8005 - val_loss: 0.4324 - val_accuracy: 0.8062\n",
      "Epoch 11/100\n",
      "200/200 [==============================] - 0s 1ms/step - loss: 0.4382 - accuracy: 0.8031 - val_loss: 0.4280 - val_accuracy: 0.8169\n",
      "Epoch 12/100\n",
      "200/200 [==============================] - 0s 1ms/step - loss: 0.4320 - accuracy: 0.8091 - val_loss: 0.4245 - val_accuracy: 0.8206\n",
      "Epoch 13/100\n",
      "200/200 [==============================] - 0s 1ms/step - loss: 0.4281 - accuracy: 0.8116 - val_loss: 0.4217 - val_accuracy: 0.8244\n",
      "Epoch 14/100\n",
      "200/200 [==============================] - 0s 1ms/step - loss: 0.4287 - accuracy: 0.8105 - val_loss: 0.4189 - val_accuracy: 0.8281\n",
      "Epoch 15/100\n",
      "200/200 [==============================] - 0s 1ms/step - loss: 0.4241 - accuracy: 0.8167 - val_loss: 0.4158 - val_accuracy: 0.8313\n",
      "Epoch 16/100\n",
      "200/200 [==============================] - 0s 1ms/step - loss: 0.4241 - accuracy: 0.8180 - val_loss: 0.4130 - val_accuracy: 0.8338\n",
      "Epoch 17/100\n",
      "200/200 [==============================] - 0s 1ms/step - loss: 0.4182 - accuracy: 0.8163 - val_loss: 0.4096 - val_accuracy: 0.8356\n",
      "Epoch 18/100\n",
      "200/200 [==============================] - 0s 2ms/step - loss: 0.4193 - accuracy: 0.8177 - val_loss: 0.4066 - val_accuracy: 0.8363\n",
      "Epoch 19/100\n",
      "200/200 [==============================] - 0s 1ms/step - loss: 0.4144 - accuracy: 0.8208 - val_loss: 0.4031 - val_accuracy: 0.8388\n",
      "Epoch 20/100\n",
      "200/200 [==============================] - 0s 1ms/step - loss: 0.4101 - accuracy: 0.8216 - val_loss: 0.3996 - val_accuracy: 0.8388\n",
      "Epoch 21/100\n",
      "200/200 [==============================] - 0s 1ms/step - loss: 0.4088 - accuracy: 0.8234 - val_loss: 0.3967 - val_accuracy: 0.8406\n",
      "Epoch 22/100\n",
      "200/200 [==============================] - 0s 1ms/step - loss: 0.4088 - accuracy: 0.8269 - val_loss: 0.3924 - val_accuracy: 0.8419\n",
      "Epoch 23/100\n",
      "200/200 [==============================] - 0s 2ms/step - loss: 0.4020 - accuracy: 0.8291 - val_loss: 0.3892 - val_accuracy: 0.8438\n",
      "Epoch 24/100\n",
      "200/200 [==============================] - 0s 2ms/step - loss: 0.4032 - accuracy: 0.8267 - val_loss: 0.3861 - val_accuracy: 0.8444\n",
      "Epoch 25/100\n",
      "200/200 [==============================] - 0s 2ms/step - loss: 0.4020 - accuracy: 0.8281 - val_loss: 0.3826 - val_accuracy: 0.8462\n",
      "Epoch 26/100\n",
      "200/200 [==============================] - 0s 2ms/step - loss: 0.3977 - accuracy: 0.8344 - val_loss: 0.3791 - val_accuracy: 0.8506\n",
      "Epoch 27/100\n",
      "200/200 [==============================] - 0s 2ms/step - loss: 0.3949 - accuracy: 0.8311 - val_loss: 0.3756 - val_accuracy: 0.8531\n",
      "Epoch 28/100\n",
      "200/200 [==============================] - 0s 1ms/step - loss: 0.3926 - accuracy: 0.8345 - val_loss: 0.3723 - val_accuracy: 0.8569\n",
      "Epoch 29/100\n",
      "200/200 [==============================] - 0s 1ms/step - loss: 0.3937 - accuracy: 0.8375 - val_loss: 0.3691 - val_accuracy: 0.8587\n",
      "Epoch 30/100\n",
      "200/200 [==============================] - 0s 2ms/step - loss: 0.3924 - accuracy: 0.8356 - val_loss: 0.3669 - val_accuracy: 0.8562\n",
      "Epoch 31/100\n",
      "200/200 [==============================] - 0s 2ms/step - loss: 0.3873 - accuracy: 0.8419 - val_loss: 0.3638 - val_accuracy: 0.8575\n",
      "Epoch 32/100\n",
      "200/200 [==============================] - 0s 1ms/step - loss: 0.3842 - accuracy: 0.8408 - val_loss: 0.3610 - val_accuracy: 0.8587\n",
      "Epoch 33/100\n",
      "200/200 [==============================] - 0s 1ms/step - loss: 0.3831 - accuracy: 0.8384 - val_loss: 0.3585 - val_accuracy: 0.8606\n",
      "Epoch 34/100\n",
      "200/200 [==============================] - 0s 1ms/step - loss: 0.3798 - accuracy: 0.8394 - val_loss: 0.3566 - val_accuracy: 0.8594\n",
      "Epoch 35/100\n",
      "200/200 [==============================] - 0s 1ms/step - loss: 0.3782 - accuracy: 0.8400 - val_loss: 0.3543 - val_accuracy: 0.8619\n",
      "Epoch 36/100\n",
      "200/200 [==============================] - 0s 1ms/step - loss: 0.3776 - accuracy: 0.8394 - val_loss: 0.3521 - val_accuracy: 0.8612\n",
      "Epoch 37/100\n",
      "200/200 [==============================] - 0s 1ms/step - loss: 0.3756 - accuracy: 0.8430 - val_loss: 0.3504 - val_accuracy: 0.8606\n",
      "Epoch 38/100\n",
      "200/200 [==============================] - 0s 1ms/step - loss: 0.3757 - accuracy: 0.8459 - val_loss: 0.3490 - val_accuracy: 0.8619\n",
      "Epoch 39/100\n",
      "200/200 [==============================] - 0s 1ms/step - loss: 0.3767 - accuracy: 0.8436 - val_loss: 0.3480 - val_accuracy: 0.8625\n",
      "Epoch 40/100\n",
      "200/200 [==============================] - 0s 1ms/step - loss: 0.3708 - accuracy: 0.8461 - val_loss: 0.3471 - val_accuracy: 0.8619\n",
      "Epoch 41/100\n",
      "200/200 [==============================] - 0s 2ms/step - loss: 0.3748 - accuracy: 0.8422 - val_loss: 0.3459 - val_accuracy: 0.8631\n",
      "Epoch 42/100\n",
      "200/200 [==============================] - 0s 2ms/step - loss: 0.3736 - accuracy: 0.8417 - val_loss: 0.3449 - val_accuracy: 0.8637\n",
      "Epoch 43/100\n",
      "200/200 [==============================] - 0s 2ms/step - loss: 0.3725 - accuracy: 0.8434 - val_loss: 0.3440 - val_accuracy: 0.8631\n",
      "Epoch 44/100\n",
      "200/200 [==============================] - 0s 1ms/step - loss: 0.3710 - accuracy: 0.8448 - val_loss: 0.3433 - val_accuracy: 0.8637\n",
      "Epoch 45/100\n",
      "200/200 [==============================] - 0s 1ms/step - loss: 0.3652 - accuracy: 0.8436 - val_loss: 0.3425 - val_accuracy: 0.8644\n",
      "Epoch 46/100\n",
      "200/200 [==============================] - 0s 1ms/step - loss: 0.3645 - accuracy: 0.8464 - val_loss: 0.3420 - val_accuracy: 0.8637\n",
      "Epoch 47/100\n",
      "200/200 [==============================] - 0s 1ms/step - loss: 0.3674 - accuracy: 0.8434 - val_loss: 0.3417 - val_accuracy: 0.8650\n",
      "Epoch 48/100\n",
      "200/200 [==============================] - 0s 1ms/step - loss: 0.3670 - accuracy: 0.8458 - val_loss: 0.3406 - val_accuracy: 0.8650\n",
      "Epoch 49/100\n",
      "200/200 [==============================] - 0s 1ms/step - loss: 0.3693 - accuracy: 0.8455 - val_loss: 0.3402 - val_accuracy: 0.8644\n",
      "Epoch 50/100\n",
      "200/200 [==============================] - 0s 1ms/step - loss: 0.3661 - accuracy: 0.8462 - val_loss: 0.3401 - val_accuracy: 0.8644\n",
      "Epoch 51/100\n",
      "200/200 [==============================] - 0s 1ms/step - loss: 0.3684 - accuracy: 0.8469 - val_loss: 0.3396 - val_accuracy: 0.8662\n",
      "Epoch 52/100\n",
      "200/200 [==============================] - 0s 1ms/step - loss: 0.3616 - accuracy: 0.8508 - val_loss: 0.3387 - val_accuracy: 0.8662\n",
      "Epoch 53/100\n",
      "200/200 [==============================] - 0s 2ms/step - loss: 0.3649 - accuracy: 0.8481 - val_loss: 0.3383 - val_accuracy: 0.8656\n",
      "Epoch 54/100\n",
      "200/200 [==============================] - 0s 1ms/step - loss: 0.3664 - accuracy: 0.8486 - val_loss: 0.3381 - val_accuracy: 0.8637\n",
      "Epoch 55/100\n",
      "200/200 [==============================] - 0s 1ms/step - loss: 0.3643 - accuracy: 0.8458 - val_loss: 0.3378 - val_accuracy: 0.8644\n",
      "Epoch 56/100\n",
      "200/200 [==============================] - 0s 1ms/step - loss: 0.3613 - accuracy: 0.8495 - val_loss: 0.3379 - val_accuracy: 0.8662\n",
      "Epoch 57/100\n",
      "200/200 [==============================] - 0s 1ms/step - loss: 0.3611 - accuracy: 0.8481 - val_loss: 0.3374 - val_accuracy: 0.8656\n",
      "Epoch 58/100\n",
      "200/200 [==============================] - 0s 1ms/step - loss: 0.3640 - accuracy: 0.8469 - val_loss: 0.3369 - val_accuracy: 0.8650\n",
      "Epoch 59/100\n",
      "200/200 [==============================] - 0s 1ms/step - loss: 0.3602 - accuracy: 0.8494 - val_loss: 0.3366 - val_accuracy: 0.8625\n",
      "Epoch 60/100\n",
      "200/200 [==============================] - 0s 1ms/step - loss: 0.3589 - accuracy: 0.8503 - val_loss: 0.3366 - val_accuracy: 0.8637\n",
      "Epoch 61/100\n",
      "200/200 [==============================] - 0s 1ms/step - loss: 0.3583 - accuracy: 0.8537 - val_loss: 0.3363 - val_accuracy: 0.8625\n",
      "Epoch 62/100\n",
      "200/200 [==============================] - 0s 1ms/step - loss: 0.3604 - accuracy: 0.8520 - val_loss: 0.3358 - val_accuracy: 0.8631\n",
      "Epoch 63/100\n",
      "200/200 [==============================] - 0s 1ms/step - loss: 0.3614 - accuracy: 0.8514 - val_loss: 0.3356 - val_accuracy: 0.8644\n",
      "Epoch 64/100\n",
      "200/200 [==============================] - 0s 1ms/step - loss: 0.3586 - accuracy: 0.8520 - val_loss: 0.3357 - val_accuracy: 0.8637\n",
      "Epoch 65/100\n",
      "200/200 [==============================] - 0s 1ms/step - loss: 0.3584 - accuracy: 0.8522 - val_loss: 0.3354 - val_accuracy: 0.8612\n",
      "Epoch 66/100\n",
      "200/200 [==============================] - 0s 1ms/step - loss: 0.3530 - accuracy: 0.8552 - val_loss: 0.3350 - val_accuracy: 0.8637\n",
      "Epoch 67/100\n",
      "200/200 [==============================] - 0s 1ms/step - loss: 0.3594 - accuracy: 0.8484 - val_loss: 0.3346 - val_accuracy: 0.8637\n",
      "Epoch 68/100\n",
      "200/200 [==============================] - 0s 1ms/step - loss: 0.3546 - accuracy: 0.8525 - val_loss: 0.3338 - val_accuracy: 0.8637\n",
      "Epoch 69/100\n",
      "200/200 [==============================] - 0s 1ms/step - loss: 0.3536 - accuracy: 0.8522 - val_loss: 0.3337 - val_accuracy: 0.8625\n",
      "Epoch 70/100\n",
      "200/200 [==============================] - 0s 1ms/step - loss: 0.3551 - accuracy: 0.8542 - val_loss: 0.3334 - val_accuracy: 0.8631\n",
      "Epoch 71/100\n",
      "200/200 [==============================] - 0s 1ms/step - loss: 0.3576 - accuracy: 0.8528 - val_loss: 0.3335 - val_accuracy: 0.8637\n",
      "Epoch 72/100\n",
      "200/200 [==============================] - 0s 1ms/step - loss: 0.3597 - accuracy: 0.8511 - val_loss: 0.3333 - val_accuracy: 0.8631\n",
      "Epoch 73/100\n",
      "200/200 [==============================] - 0s 1ms/step - loss: 0.3551 - accuracy: 0.8506 - val_loss: 0.3336 - val_accuracy: 0.8644\n"
     ]
    }
   ],
   "source": [
    "es_cb = callbacks.EarlyStopping(monitor='val_loss', min_delta=0.001, patience=5)\n",
    "history=model2.fit(X_train, y_train,\n",
    "                  validation_split=0.2,\n",
    "                  epochs=100,\n",
    "                  batch_size=32, \n",
    "                  callbacks=es_cb, \n",
    "                  verbose=1)"
   ]
  },
  {
   "cell_type": "code",
   "execution_count": 51,
   "id": "european-coach",
   "metadata": {},
   "outputs": [
    {
     "name": "stdout",
     "output_type": "stream",
     "text": [
      "63/63 [==============================] - 0s 1ms/step - loss: 0.3463 - accuracy: 0.8585\n"
     ]
    },
    {
     "data": {
      "image/png": "[encoded data removed]",
      "text/plain": [
       "<Figure size 432x288 with 1 Axes>"
      ]
     },
     "metadata": {
      "needs_background": "light"
     },
     "output_type": "display_data"
    }
   ],
   "source": [
    "# Capturing learning history per epoch\n",
    "hist  = pd.DataFrame(history.history)\n",
    "hist['epoch'] = history.epoch\n",
    "\n",
    "# Plotting accuracy at different epochs\n",
    "plt.plot(hist['loss'])\n",
    "plt.plot(hist['val_loss'])\n",
    "plt.legend((\"train\" , \"valid\") , loc =0)\n",
    "\n",
    "#Printing results\n",
    "results = model2.evaluate(X_test, y_test)"
   ]
  },
  {
   "cell_type": "markdown",
   "id": "sharp-hundred",
   "metadata": {},
   "source": [
    "From the above plot, we observe that both the curves train and validation are smooth."
   ]
  },
  {
   "cell_type": "code",
   "execution_count": 52,
   "id": "italian-affairs",
   "metadata": {},
   "outputs": [
    {
     "name": "stdout",
     "output_type": "stream",
     "text": [
      "Best Threshold=0.210246, G-Mean=0.777\n"
     ]
    },
    {
     "data": {
      "image/png": "[encoded data removed]",
      "text/plain": [
       "<Figure size 432x288 with 1 Axes>"
      ]
     },
     "metadata": {
      "needs_background": "light"
     },
     "output_type": "display_data"
    }
   ],
   "source": [
    "\n",
    "# predict probabilities\n",
    "yhat2 = model2.predict(X_test)\n",
    "\n",
    "# keep probabilities for the positive outcome only\n",
    "yhat2 = yhat2[:, 0]\n",
    "\n",
    "# calculate roc curves\n",
    "fpr, tpr, thresholds2 = roc_curve(y_test, yhat2)\n",
    "\n",
    "# calculate the g-mean for each threshold\n",
    "gmeans2 = np.sqrt(tpr * (1-fpr))\n",
    "\n",
    "# locate the index of the largest g-mean\n",
    "ix = np.argmax(gmeans2)\n",
    "print('Best Threshold=%f, G-Mean=%.3f' % (thresholds2[ix], gmeans2[ix]))\n",
    "\n",
    "# plot the roc curve for the model\n",
    "pyplot.plot([0,1], [0,1], linestyle='--', label='No Skill')\n",
    "pyplot.plot(fpr, tpr, marker='.')\n",
    "pyplot.scatter(fpr[ix], tpr[ix], marker='o', color='black', label='Best')\n",
    "\n",
    "# axis labels\n",
    "pyplot.xlabel('False Positive Rate')\n",
    "pyplot.ylabel('True Positive Rate')\n",
    "pyplot.legend()\n",
    "\n",
    "# show the plot\n",
    "pyplot.show()"
   ]
  },
  {
   "cell_type": "code",
   "execution_count": 53,
   "id": "supreme-forum",
   "metadata": {},
   "outputs": [
    {
     "data": {
      "text/plain": [
       "array([[False],\n",
       "       [False],\n",
       "       [False],\n",
       "       ...,\n",
       "       [ True],\n",
       "       [False],\n",
       "       [False]])"
      ]
     },
     "execution_count": 53,
     "metadata": {},
     "output_type": "execute_result"
    }
   ],
   "source": [
    "#Predicting the results using best as a threshold\n",
    "y_pred_e2=model2.predict(X_test)\n",
    "y_pred_e2 = (y_pred_e2 > thresholds2[ix])\n",
    "y_pred_e2"
   ]
  },
  {
   "cell_type": "code",
   "execution_count": 54,
   "id": "primary-magnet",
   "metadata": {},
   "outputs": [
    {
     "data": {
      "image/png": "[encoded data removed]",
      "text/plain": [
       "<Figure size 432x288 with 2 Axes>"
      ]
     },
     "metadata": {
      "needs_background": "light"
     },
     "output_type": "display_data"
    }
   ],
   "source": [
    "#Calculating the confusion matrix \n",
    "cm1=confusion_matrix(y_test, y_pred_e2)\n",
    "labels = ['True Positive','False Negative','False Positive','True Negative']\n",
    "categories = [ 'Not Changing Job','Changing Job']\n",
    "make_confusion_matrix(cm1, \n",
    "                      group_names=labels,\n",
    "                      categories=categories, \n",
    "                      cmap='Blues')"
   ]
  },
  {
   "cell_type": "code",
   "execution_count": 55,
   "id": "legal-cookbook",
   "metadata": {},
   "outputs": [
    {
     "name": "stdout",
     "output_type": "stream",
     "text": [
      "              precision    recall  f1-score   support\n",
      "\n",
      "           0       0.92      0.82      0.87      1593\n",
      "           1       0.51      0.74      0.60       407\n",
      "\n",
      "    accuracy                           0.80      2000\n",
      "   macro avg       0.72      0.78      0.73      2000\n",
      "weighted avg       0.84      0.80      0.81      2000\n",
      "\n"
     ]
    }
   ],
   "source": [
    "#Accuracy as per the classification report \n",
    "cr=metrics.classification_report(y_test,y_pred_e2)\n",
    "print(cr)"
   ]
  },
  {
   "cell_type": "markdown",
   "id": "accessory-external",
   "metadata": {},
   "source": [
    "The Dropout technique helped the model reduce the loss function of both train and validation. The F1 score also seems to be fine, with a huge decrease in the False Negatives with a small increase in False Positives.\n",
    "\n",
    "The final model gives an accuracy score of 80% with f1-score of 87% and 60% of class 0 and 1 respectively. Which is significantly better than the previous model."
   ]
  },
  {
   "cell_type": "markdown",
   "id": "final-macro",
   "metadata": {},
   "source": [
    "### Score of Improvement\n",
    "\n",
    "* The model can be improved by trying different-2 archeticture of Dense layer.\n",
    "\n",
    "* The dataset is too small for neural networks. Adding more data into the model or by trying oversampling techniques can help the model improve.\n",
    "\n",
    "* The model can be better tune with the use of RandomsearchCV, GridsearchCV or KerasTuner to find a better learning rate, drop out score and loss metrics."
   ]
  },
  {
   "cell_type": "markdown",
   "id": "bizarre-nutrition",
   "metadata": {},
   "source": [
    "### Business Recommendations"
   ]
  },
  {
   "cell_type": "markdown",
   "id": "bigger-financing",
   "metadata": {},
   "source": [
    "* The bank can deploy the final model from this exercise to identify with a reasonable degree of accuracy whether a customer will leave and join another service provider within next 6 month, and this process seems to be easier and more time-efficient than other methods.\n"
   ]
  }
 ],
 "metadata": {
  "kernelspec": {
   "display_name": "Python 3 (ipykernel)",
   "language": "python",
   "name": "python3"
  },
  "language_info": {
   "codemirror_mode": {
    "name": "ipython",
    "version": 3
   },
   "file_extension": ".py",
   "mimetype": "text/x-python",
   "name": "python",
   "nbconvert_exporter": "python",
   "pygments_lexer": "ipython3",
   "version": "3.9.6"
  }
 },
 "nbformat": 4,
 "nbformat_minor": 5
}
